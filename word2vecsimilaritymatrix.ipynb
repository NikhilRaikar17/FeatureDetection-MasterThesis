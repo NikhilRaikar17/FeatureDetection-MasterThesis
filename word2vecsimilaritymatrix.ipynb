{
 "cells": [
  {
   "cell_type": "code",
   "execution_count": 88,
   "metadata": {},
   "outputs": [],
   "source": [
    "import gensim\n",
    "from gensim.models import Word2Vec\n",
    "model = gensim.models.KeyedVectors.load_word2vec_format('GoogleNews-vectors-negative300.bin',binary=True)"
   ]
  },
  {
   "cell_type": "code",
   "execution_count": 89,
   "metadata": {},
   "outputs": [
    {
     "name": "stdout",
     "output_type": "stream",
     "text": [
      "0.8394\n"
     ]
    }
   ],
   "source": [
    "sim = model.n_similarity(['power','window'], ['automatic','power','window'])\n",
    "print(\"{:.4f}\".format(sim))"
   ]
  },
  {
   "cell_type": "code",
   "execution_count": 93,
   "metadata": {},
   "outputs": [
    {
     "name": "stdout",
     "output_type": "stream",
     "text": [
      "The similarity threshold is more for this\n",
      "['alarm', 'system'] ['LED', 'alarm', 'system']\n",
      "0.8153857191875945\n",
      " \n",
      "The similarity threshold is more for this\n",
      "['alarm', 'system'] ['central', 'alarm', 'system']\n",
      "0.9060327661720962\n",
      " \n",
      "The similarity threshold is more for this\n",
      "['automatic', 'power', 'window'] ['manual', 'power', 'window']\n",
      "0.8171568968780272\n",
      " \n",
      "The similarity threshold is more for this\n",
      "['automatic', 'power', 'window'] ['power', 'window']\n",
      "0.8394297344265718\n",
      " \n",
      "The similarity threshold is more for this\n",
      "['manual', 'power', 'window'] ['power', 'window']\n",
      "0.8311288524460057\n",
      " \n"
     ]
    }
   ],
   "source": [
    "from itertools import combinations \n",
    "\n",
    "\n",
    "word = ['camera','pictures']\n",
    "\n",
    "#List of features\n",
    "words = ['alarm system','interior mirror','central locking system','automatic power window','manual power window','power window',\n",
    "        'finger protection','exterior monitoring','LED alarm system','central alarm system']\n",
    "\n",
    "#Converts a list into combinations\n",
    "list1=[]\n",
    "for elements in list(combinations(words, 2)):\n",
    "    for i in elements:\n",
    "        list1.append(i.split())\n",
    "\n",
    "k=0\n",
    "while k < len(list1):\n",
    "#     print(list1[k],list1[k+1])\n",
    "    sim = model.n_similarity(list1[k],list1[k+1])\n",
    "#     print(sim)\n",
    "#     print(\" \")\n",
    "    if(sim>0.80):\n",
    "        print(\"The similarity threshold is more for this\")\n",
    "        print(list1[k],list1[k+1])\n",
    "        print(sim)\n",
    "        print(\" \")\n",
    "    k=k+2\n",
    "\n",
    "    "
   ]
  },
  {
   "cell_type": "code",
   "execution_count": null,
   "metadata": {},
   "outputs": [],
   "source": []
  }
 ],
 "metadata": {
  "kernelspec": {
   "display_name": "Python 3",
   "language": "python",
   "name": "python3"
  },
  "language_info": {
   "codemirror_mode": {
    "name": "ipython",
    "version": 3
   },
   "file_extension": ".py",
   "mimetype": "text/x-python",
   "name": "python",
   "nbconvert_exporter": "python",
   "pygments_lexer": "ipython3",
   "version": "3.6.5"
  }
 },
 "nbformat": 4,
 "nbformat_minor": 2
}

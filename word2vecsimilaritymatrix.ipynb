{
 "cells": [
  {
   "cell_type": "code",
   "execution_count": 35,
   "metadata": {},
   "outputs": [],
   "source": [
    "import gensim\n",
    "from gensim.models import Word2Vec\n",
    "from nltk.parse.stanford import StanfordDependencyParser\n",
    "import os\n",
    "from itertools import combinations\n",
    "model = gensim.models.KeyedVectors.load_word2vec_format('GoogleNews-vectors-negative300.bin',binary=True)"
   ]
  },
  {
   "cell_type": "code",
   "execution_count": 36,
   "metadata": {},
   "outputs": [],
   "source": [
    "#-Dependencies needed to run the Stanford Dependency Parser\n",
    "os.environ['JAVAHOME'] = 'C://Program Files//Java//jdk1.8.0_144//bin//java.exe'\n",
    "os.environ['STANFORD_PARSER'] = 'stanford-parser-full-2018-10-17/stanford-parser.jar'\n",
    "os.environ['STANFORD_MODELS'] = 'stanford-parser-full-2018-10-17/stanford-parser-3.9.2-models.jar'\n",
    "path_to_jar = 'stanford-parser-full-2018-10-17/stanford-parser.jar'\n",
    "path_to_models_jar = 'stanford-parser-full-2018-10-17/stanford-parser-3.9.2-models.jar'\n",
    "dep_parser = StanfordDependencyParser(path_to_jar=path_to_jar, path_to_models_jar=path_to_models_jar)"
   ]
  },
  {
   "cell_type": "code",
   "execution_count": 393,
   "metadata": {},
   "outputs": [
    {
     "name": "stdout",
     "output_type": "stream",
     "text": [
      "The similarity threshold is more for this\n",
      "['alarm', 'system'] ['central', 'locking', 'system']\n",
      "0.5238854102818237\n",
      " \n",
      " \n",
      "['central', 'locking', 'system'] REQUIRE ['alarm', 'system']\n",
      " \n",
      "The similarity threshold is more for this\n",
      "['alarm', 'system'] ['automatic', 'power', 'window']\n",
      "0.43492856494405135\n",
      " \n",
      "There are no direct Objects\n",
      " \n",
      "['alarm', 'system'] ['automatic', 'power', 'window']\n",
      " \n",
      "The similarity threshold is more for this\n",
      "['alarm', 'system'] ['exterior', 'monitoring']\n",
      "0.4207257592584278\n",
      " \n",
      "There are no direct Objects\n",
      " \n",
      "['alarm', 'system'] ['exterior', 'monitoring']\n",
      " \n",
      "The similarity threshold is more for this\n",
      "['alarm', 'system'] ['LED', 'alarm', 'system']\n",
      "0.8153857191875945\n",
      " \n",
      " \n",
      "['LED', 'alarm', 'system'] REQUIRE ['alarm', 'system']\n",
      " \n",
      "The similarity threshold is more for this\n",
      "['alarm', 'system'] ['central', 'alarm', 'system']\n",
      "0.9060327661720962\n",
      " \n",
      " \n",
      "['central', 'alarm', 'system'] REQUIRE ['alarm', 'system']\n",
      " \n",
      "The similarity threshold is more for this\n",
      "['interior', 'mirror'] ['exterior', 'monitoring']\n",
      "0.4841193949482605\n",
      " \n",
      "There are no direct Objects\n",
      " \n",
      "['interior', 'mirror'] ['exterior', 'monitoring']\n",
      " \n",
      "The similarity threshold is more for this\n",
      "['central', 'locking', 'system'] ['automatic', 'power', 'window']\n",
      "0.47003589300791093\n",
      " \n",
      "There are no direct Objects\n",
      " \n",
      "['central', 'locking', 'system'] ['automatic', 'power', 'window']\n",
      " \n",
      "The similarity threshold is more for this\n",
      "['central', 'locking', 'system'] ['manual', 'power', 'window']\n",
      "0.40676404986354076\n",
      " \n",
      "There are no direct Objects\n",
      " \n",
      "['central', 'locking', 'system'] ['manual', 'power', 'window']\n",
      " \n",
      "The similarity threshold is more for this\n",
      "['central', 'locking', 'system'] ['LED', 'alarm', 'system']\n",
      "0.4375096194513757\n",
      " \n",
      " \n",
      "['LED', 'alarm', 'system'] REQUIRE ['central', 'locking', 'system']\n",
      " \n",
      "The similarity threshold is more for this\n",
      "['central', 'locking', 'system'] ['central', 'alarm', 'system']\n",
      "0.7068768173000857\n",
      " \n",
      " \n",
      "['central', 'alarm', 'system'] REQUIRE ['central', 'locking', 'system']\n",
      " \n",
      "The similarity threshold is more for this\n",
      "['automatic', 'power', 'window'] ['manual', 'power', 'window']\n",
      "0.8171568968780272\n",
      " \n",
      " \n",
      "['manual', 'power', 'window'] REQUIRE ['automatic', 'power', 'window']\n",
      " \n",
      "The similarity threshold is more for this\n",
      "['automatic', 'power', 'window'] ['power', 'window']\n",
      "0.8394297344265718\n",
      " \n",
      " \n",
      "['automatic', 'power', 'window'] REQUIRE ['power', 'window']\n",
      " \n",
      "The similarity threshold is more for this\n",
      "['automatic', 'power', 'window'] ['LED', 'alarm', 'system']\n",
      "0.4483604969219228\n",
      " \n",
      "There are no direct Objects\n",
      " \n",
      "['automatic', 'power', 'window'] ['LED', 'alarm', 'system']\n",
      " \n",
      "The similarity threshold is more for this\n",
      "['automatic', 'power', 'window'] ['central', 'alarm', 'system']\n",
      "0.4550165951029637\n",
      " \n",
      "There are no direct Objects\n",
      " \n",
      "['automatic', 'power', 'window'] ['central', 'alarm', 'system']\n",
      " \n",
      "The similarity threshold is more for this\n",
      "['manual', 'power', 'window'] ['power', 'window']\n",
      "0.8311288524460057\n",
      " \n",
      " \n",
      "['manual', 'power', 'window'] REQUIRE ['power', 'window']\n",
      " \n",
      "The similarity threshold is more for this\n",
      "['exterior', 'monitoring'] ['LED', 'alarm', 'system']\n",
      "0.46822876189541046\n",
      " \n",
      "There are no direct Objects\n",
      " \n",
      "['exterior', 'monitoring'] ['LED', 'alarm', 'system']\n",
      " \n",
      "The similarity threshold is more for this\n",
      "['exterior', 'monitoring'] ['central', 'alarm', 'system']\n",
      "0.411508984519631\n",
      " \n",
      "There are no direct Objects\n",
      " \n",
      "['exterior', 'monitoring'] ['central', 'alarm', 'system']\n",
      " \n",
      "The similarity threshold is more for this\n",
      "['LED', 'alarm', 'system'] ['central', 'alarm', 'system']\n",
      "0.7293053647170176\n",
      " \n",
      " \n",
      "['central', 'alarm', 'system'] REQUIRE ['LED', 'alarm', 'system']\n",
      " \n"
     ]
    }
   ],
   "source": [
    " #List of features which are termed as DIRECT OBJECTS:\n",
    "words = ['alarm system','interior mirror','central locking system','automatic power window','manual power window','power window',\n",
    "        'finger protection','exterior monitoring','LED alarm system','central alarm system']\n",
    "\n",
    "#Converts a list into combinations\n",
    "list1=[]\n",
    "for elements in list(combinations(words, 2)):\n",
    "    for i in elements:\n",
    "        list1.append(i.split())\n",
    "\n",
    "k=0\n",
    "further_processing = []\n",
    "while k < len(list1):\n",
    "    sim = model.n_similarity(list1[k],list1[k+1])\n",
    "    if(sim>0.40):\n",
    "        print(\"The similarity threshold is more for this\")\n",
    "        print(list1[k],list1[k+1])\n",
    "        print(sim)\n",
    "        print(\" \")\n",
    "        S1 = set(list1[k])\n",
    "        S2 = set(list1[k+1])\n",
    "        if len(S1.intersection(S2)) == 0:\n",
    "            print('There are no direct Objects')\n",
    "            print(\" \")\n",
    "            print(list1[k],list1[k+1])\n",
    "            a=' '.join(list1[k])\n",
    "            b=' '.join(list1[k+1]) \n",
    "            further_processing.append([a,b])       \n",
    "        else:\n",
    "            print(\" \")\n",
    "            if(len(list1[k+1]) >= len(list1[k])):\n",
    "                print(list1[k+1],'REQUIRE',list1[k])\n",
    "            else:\n",
    "                print(list1[k],'REQUIRE',list1[k+1])\n",
    "        print(\" \")\n",
    "    k=k+2\n",
    "\n",
    "    "
   ]
  },
  {
   "cell_type": "code",
   "execution_count": 394,
   "metadata": {},
   "outputs": [
    {
     "name": "stdout",
     "output_type": "stream",
     "text": [
      "[['alarm system', 'automatic power window'], ['alarm system', 'exterior monitoring'], ['interior mirror', 'exterior monitoring'], ['central locking system', 'automatic power window'], ['central locking system', 'manual power window'], ['automatic power window', 'LED alarm system'], ['automatic power window', 'central alarm system'], ['exterior monitoring', 'LED alarm system'], ['exterior monitoring', 'central alarm system']]\n"
     ]
    }
   ],
   "source": [
    "print(further_processing)"
   ]
  },
  {
   "cell_type": "code",
   "execution_count": 395,
   "metadata": {},
   "outputs": [],
   "source": [
    "sentences = [\"If the window central locking is being opened, pressing the remote control button will close the window.\",\n",
    "          \"If the window is just opened, nothing automatic power window happens by pressing the button.\",\n",
    "          \"If the window is closed, press the alarm system remote control button to open the window.\",\n",
    "          \"If the window is closed, nothing happens by pressing the key.\",\n",
    "          \"If the window is fully open, pressing the remote alarm system control button will have no effect.\"]"
   ]
  },
  {
   "cell_type": "code",
   "execution_count": 396,
   "metadata": {},
   "outputs": [
    {
     "name": "stdout",
     "output_type": "stream",
     "text": [
      "[['alarm system', 'automatic power window']]\n",
      "If the window is just opened, nothing automatic power window happens by pressing the button.\n",
      "dobj ( pressing ,  button )\n",
      "If the window is closed, press the alarm system remote control button to open the window.\n",
      "dobj ( press ,  button )\n",
      "dobj ( open ,  window )\n",
      "If the window is fully open, pressing the remote alarm system control button will have no effect.\n",
      "dobj ( pressing ,  button )\n",
      "dobj ( have ,  effect )\n",
      "1\n",
      "alarm system REQUIRE automatic power window\n",
      "[['alarm system', 'exterior monitoring']]\n",
      "If the window is closed, press the alarm system remote control button to open the window.\n",
      "dobj ( press ,  button )\n",
      "dobj ( open ,  window )\n",
      "If the window is fully open, pressing the remote alarm system control button will have no effect.\n",
      "dobj ( pressing ,  button )\n",
      "dobj ( have ,  effect )\n",
      "alarm system EXCLUDES exterior monitoring\n",
      "[['interior mirror', 'exterior monitoring']]\n",
      "interior mirror EXCLUDES exterior monitoring\n",
      "[['central locking system', 'automatic power window']]\n",
      "If the window is just opened, nothing automatic power window happens by pressing the button.\n",
      "dobj ( pressing ,  button )\n",
      "central locking system EXCLUDES automatic power window\n",
      "[['central locking system', 'manual power window']]\n",
      "central locking system EXCLUDES manual power window\n",
      "[['automatic power window', 'LED alarm system']]\n",
      "If the window is just opened, nothing automatic power window happens by pressing the button.\n",
      "dobj ( pressing ,  button )\n",
      "automatic power window EXCLUDES LED alarm system\n",
      "[['automatic power window', 'central alarm system']]\n",
      "If the window is just opened, nothing automatic power window happens by pressing the button.\n",
      "dobj ( pressing ,  button )\n",
      "automatic power window EXCLUDES central alarm system\n",
      "[['exterior monitoring', 'LED alarm system']]\n",
      "exterior monitoring EXCLUDES LED alarm system\n",
      "[['exterior monitoring', 'central alarm system']]\n",
      "exterior monitoring EXCLUDES central alarm system\n"
     ]
    }
   ],
   "source": [
    "list_process = []\n",
    "dobj1 = []\n",
    "dobj2 = []\n",
    "dobj_diff = []\n",
    "\n",
    "for i in list(further_processing):\n",
    "    further_processing.remove(i)\n",
    "    list_process.append(i)\n",
    "    print(list_process)\n",
    "    for z in list_process:\n",
    "        for s in sentences:\n",
    "            if(z[0]) in s:\n",
    "                print(s)\n",
    "                res = dep_parser.raw_parse(s)\n",
    "                dep = list(res)[0]\n",
    "                for triple in dep.triples():\n",
    "                    if(triple[1] == 'dobj'):\n",
    "                        print (triple[1],\"(\",triple[0][0],\", \",triple[2][0],\")\")\n",
    "                        d1=' '.join(triple[0][0])\n",
    "                        d2=' '.join(triple[2][0])\n",
    "                        dobj1.append([d1,d2])\n",
    "                if(len(dobj1)== 0):\n",
    "                    print(z[0],'EXCLUDES',z[1])\n",
    "            \n",
    "            if(z[1]) in s:\n",
    "                print(s)\n",
    "                res = dep_parser.raw_parse(s)\n",
    "                dep = list(res)[0]\n",
    "                for triple in dep.triples():\n",
    "                    if(triple[1] == 'dobj'):\n",
    "                        print (triple[1],\"(\",triple[0][0],\", \",triple[2][0],\")\")\n",
    "                        d3=' '.join(triple[0][0])\n",
    "                        d4=' '.join(triple[2][0])\n",
    "                        dobj2.append([d3,d4])\n",
    "                \n",
    "                if(len(dobj2)== 0):\n",
    "                    print(z[0],'EXCLUDES',z[1])\n",
    "                \n",
    "                \n",
    "            for element in dobj1:\n",
    "                if element in dobj2:\n",
    "                    dobj_diff.append(element)\n",
    "                    print(len(dobj_diff))\n",
    "                \n",
    "        if len(dobj_diff) == 0:\n",
    "            print(z[0],'EXCLUDES',z[1])\n",
    "        else:\n",
    "            print(z[0],'REQUIRE',z[1])\n",
    "                \n",
    "                \n",
    "        list_process = []\n",
    "        dobj2 = []\n",
    "        dobj1 = []\n",
    "        dobj_diff = []\n",
    "        \n",
    "        \n",
    "        \n",
    "            \n",
    "        "
   ]
  },
  {
   "cell_type": "code",
   "execution_count": 397,
   "metadata": {},
   "outputs": [
    {
     "name": "stdout",
     "output_type": "stream",
     "text": [
      "[]\n"
     ]
    }
   ],
   "source": [
    "print(further_processing)"
   ]
  },
  {
   "cell_type": "code",
   "execution_count": 398,
   "metadata": {},
   "outputs": [
    {
     "name": "stdout",
     "output_type": "stream",
     "text": [
      "[]\n"
     ]
    }
   ],
   "source": [
    "print(list_process)"
   ]
  },
  {
   "cell_type": "code",
   "execution_count": 399,
   "metadata": {},
   "outputs": [
    {
     "data": {
      "text/plain": [
       "[]"
      ]
     },
     "execution_count": 399,
     "metadata": {},
     "output_type": "execute_result"
    }
   ],
   "source": [
    "dobj1"
   ]
  },
  {
   "cell_type": "code",
   "execution_count": 400,
   "metadata": {},
   "outputs": [
    {
     "data": {
      "text/plain": [
       "[]"
      ]
     },
     "execution_count": 400,
     "metadata": {},
     "output_type": "execute_result"
    }
   ],
   "source": [
    "dobj2"
   ]
  },
  {
   "cell_type": "code",
   "execution_count": 392,
   "metadata": {},
   "outputs": [],
   "source": []
  },
  {
   "cell_type": "code",
   "execution_count": null,
   "metadata": {},
   "outputs": [],
   "source": [
    "\n"
   ]
  },
  {
   "cell_type": "code",
   "execution_count": null,
   "metadata": {},
   "outputs": [],
   "source": []
  }
 ],
 "metadata": {
  "kernelspec": {
   "display_name": "Python 3",
   "language": "python",
   "name": "python3"
  },
  "language_info": {
   "codemirror_mode": {
    "name": "ipython",
    "version": 3
   },
   "file_extension": ".py",
   "mimetype": "text/x-python",
   "name": "python",
   "nbconvert_exporter": "python",
   "pygments_lexer": "ipython3",
   "version": "3.6.5"
  }
 },
 "nbformat": 4,
 "nbformat_minor": 2
}

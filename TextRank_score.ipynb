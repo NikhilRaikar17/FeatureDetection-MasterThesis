{
 "cells": [
  {
   "cell_type": "code",
   "execution_count": 89,
   "metadata": {},
   "outputs": [],
   "source": [
    "Text = \"\"\"Deactivation of the finger protection causes the LED to be deactivated,\n",
    "          When the central locking system is active and the vehicle is closed, the LED lights up,\n",
    "          If the central locking system is inactive and the vehicle is not closed,the LED does not light up,\n",
    "          Deactivating the central locking system also turns off the LED,\n",
    "          When all windows are still, the LED does not light,\n",
    "          When the button for closing a window is pressed and the corresponding window moves up,the LED indicates that a window closes,\n",
    "          When the button for opening a window is pressed and the corresponding window moves down,the LED indicates that a window is opening,\n",
    "          Closing of the opening or closing process of the windows leads to deactivation of the LED,\n",
    "          The LED is lit when the exterior mirror is folded,\n",
    "          The LED does not light up when the exterior mirror is folded out,\n",
    "          Switching between the states of the viewing mirror leads to the change between the states of the LED,\n",
    "          A special LED for each direction illuminates when the viewing mirror is in the maximum position in this direction,\n",
    "          If a special LED is illuminated for each direction,when the exterior mirror is in the maximum position in this direction and the mirror is back, then When the exterior mirror heating is activated, the LED is lit,\n",
    "          If the exterior mirror heating is deactivated,the LED does not light up,\n",
    "          Deactivating the exterior mirror heating leads to the deactivation of the LED,\n",
    "          Pressing the button to close the window will cause the window to close as soon as the print is exerted or the window has reached its top,\n",
    "          Pressing the button to open the window will cause the window to open as long as the print is running or the window has reached the bottom,\n",
    "          Pressing the button to open the window will open the window completely,\n",
    "          Pressing the button to close the window will cause the window to close completely,\n",
    "          If the window is just opened, pressing the close button will cause the window to stop,\n",
    "          If the window is just opened, nothing happens by pressing the button,\n",
    "          If the window is closed, press the button to open the window,\n",
    "          If the window is closed, nothing happens by pressing the key,\n",
    "          When the window is completely open, pressing the button for opening does not have any effect,\n",
    "          If the window is completely closed, pressing the key for closing does not have any effect,\n",
    "          As soon as the window is closed and an obstacle in the window frame is detected by back pressure,the finger protection is activated,\n",
    "          If the anti-trap protection is activated, the window can no longer be closed,\n",
    "          The finger protection can be deactivated by briefly pressing the open button,\n",
    "          If the LED is present and the finger protection is activated, the LED is lit,\n",
    "          If the LED is present and the finger protection is not activated, the LED does not light up,\n",
    "          When the mirror is folded, pressing the central button will cause the mirror to fold out,\n",
    "          When the mirror is folded out and the vehicle is stationary,pressing the central button causes the mirror to fold,\n",
    "          When the mirror is unfolded and the vehicle is in motion,pressing the central button has no effect,\n",
    "          If the LED is present and the mirror is folded in, the LED is lit,\n",
    "          If the LED is present and the mirror is folded out, the LED does not light up,\n",
    "          Pressing the directional button left of the electrical exterior mirror,causes the exterior mirror to move to the left,\n",
    "          This only works when the exterior mirror has moving margin to the left,\n",
    "          Pressing the directional button right of the electrical exterior mirror causes the exterior mirror to move to the right,\n",
    "          This only works when the exterior mirror has movement margin to the right,\n",
    "          Pressing the directional button up of the electrical exterior mirror causes the exterior mirror to move upwards,\n",
    "          This only works when the exterior mirror has moving range up,\n",
    "          Pressing on the directional button down of the electrical exterior mirror causes the exterior mirror to move downwards. ,\n",
    "          This only works when the exterior mirror has movement range down,\n",
    "          Two temperatures are defined,a minimum temperature and a maximum temperature,\n",
    "          If the temperature measurement on the exterior mirror falls below the minimum temperature,the exterior mirror heating is activated,\n",
    "          Switching off the vehicle leads to the switch-off of the exterior mirror heater,\n",
    "          When the exterior mirror heating is activated and the maximum temperature is exceeded,the exterior mirror heating is deactivated,\n",
    "          If the LED is present and the exterior mirror heating is activated, the LED is lit,\n",
    "          If the LED is present and the exterior mirror heater is not activated,the LED does not light up,\n",
    "          Violent opening of a door causes an alarm to be triggered when the alarm is active,\n",
    "          Violent opening of a door does not trigger an alarm when the alarm system is deactivated,\n",
    "          If an LED is present, an ongoing alarm is signaled by an LED,\n",
    "          Alarm is automatically terminated after 20 seconds,after which a message will be displayed if LEDs are present,\n",
    "          Alarm can be deactivated by unlocking the vehicle. ,\n",
    "          This does not lead to a message when LEDs are present,\"\"\""
   ]
  },
  {
   "cell_type": "code",
   "execution_count": 90,
   "metadata": {},
   "outputs": [
    {
     "name": "stdout",
     "output_type": "stream",
     "text": [
      "['deactivation', 'of', 'the', 'finger', 'protection', 'causes', 'the', 'led', 'to', 'be', 'deactivated', ',', 'when', 'the', 'central', 'locking', 'system', 'is', 'active', 'and', 'the', 'vehicle', 'is', 'closed', ',', 'the', 'led', 'lights', 'up', ',', 'if', 'the', 'central', 'locking', 'system', 'is', 'inactive', 'and', 'the', 'vehicle', 'is', 'not', 'closed', ',', 'the', 'led', 'does', 'not', 'light', 'up', ',', 'deactivating', 'the', 'central', 'locking', 'system', 'also', 'turns', 'off', 'the', 'led', ',', 'when', 'all', 'windows', 'are', 'still', ',', 'the', 'led', 'does', 'not', 'light', ',', 'when', 'the', 'button', 'for', 'closing', 'a', 'window', 'is', 'pressed', 'and', 'the', 'corresponding', 'window', 'moves', 'up', ',', 'the', 'led', 'indicates', 'that', 'a', 'window', 'closes', ',', 'when', 'the', 'button', 'for', 'opening', 'a', 'window', 'is', 'pressed', 'and', 'the', 'corresponding', 'window', 'moves', 'down', ',', 'the', 'led', 'indicates', 'that', 'a', 'window', 'is', 'opening', ',', 'closing', 'of', 'the', 'opening', 'or', 'closing', 'process', 'of', 'the', 'windows', 'leads', 'to', 'deactivation', 'of', 'the', 'led', ',', 'the', 'led', 'is', 'lit', 'when', 'the', 'exterior', 'mirror', 'is', 'folded', ',', 'the', 'led', 'does', 'not', 'light', 'up', 'when', 'the', 'exterior', 'mirror', 'is', 'folded', 'out', ',', 'switching', 'between', 'the', 'states', 'of', 'the', 'viewing', 'mirror', 'leads', 'to', 'the', 'change', 'between', 'the', 'states', 'of', 'the', 'led', ',', 'a', 'special', 'led', 'for', 'each', 'direction', 'illuminates', 'when', 'the', 'viewing', 'mirror', 'is', 'in', 'the', 'maximum', 'position', 'in', 'this', 'direction', ',', 'if', 'a', 'special', 'led', 'is', 'illuminated', 'for', 'each', 'direction', ',', 'when', 'the', 'exterior', 'mirror', 'is', 'in', 'the', 'maximum', 'position', 'in', 'this', 'direction', 'and', 'the', 'mirror', 'is', 'back', ',', 'then', 'when', 'the', 'exterior', 'mirror', 'heating', 'is', 'activated', ',', 'the', 'led', 'is', 'lit', ',', 'if', 'the', 'exterior', 'mirror', 'heating', 'is', 'deactivated', ',', 'the', 'led', 'does', 'not', 'light', 'up', ',', 'deactivating', 'the', 'exterior', 'mirror', 'heating', 'leads', 'to', 'the', 'deactivation', 'of', 'the', 'led', ',', 'pressing', 'the', 'button', 'to', 'close', 'the', 'window', 'will', 'cause', 'the', 'window', 'to', 'close', 'as', 'soon', 'as', 'the', 'print', 'is', 'exerted', 'or', 'the', 'window', 'has', 'reached', 'its', 'top', ',', 'pressing', 'the', 'button', 'to', 'open', 'the', 'window', 'will', 'cause', 'the', 'window', 'to', 'open', 'as', 'long', 'as', 'the', 'print', 'is', 'running', 'or', 'the', 'window', 'has', 'reached', 'the', 'bottom', ',', 'pressing', 'the', 'button', 'to', 'open', 'the', 'window', 'will', 'open', 'the', 'window', 'completely', ',', 'pressing', 'the', 'button', 'to', 'close', 'the', 'window', 'will', 'cause', 'the', 'window', 'to', 'close', 'completely', ',', 'if', 'the', 'window', 'is', 'just', 'opened', ',', 'pressing', 'the', 'close', 'button', 'will', 'cause', 'the', 'window', 'to', 'stop', ',', 'if', 'the', 'window', 'is', 'just', 'opened', ',', 'nothing', 'happens', 'by', 'pressing', 'the', 'button', ',', 'if', 'the', 'window', 'is', 'closed', ',', 'press', 'the', 'button', 'to', 'open', 'the', 'window', ',', 'if', 'the', 'window', 'is', 'closed', ',', 'nothing', 'happens', 'by', 'pressing', 'the', 'key', ',', 'when', 'the', 'window', 'is', 'completely', 'open', ',', 'pressing', 'the', 'button', 'for', 'opening', 'does', 'not', 'have', 'any', 'effect', ',', 'if', 'the', 'window', 'is', 'completely', 'closed', ',', 'pressing', 'the', 'key', 'for', 'closing', 'does', 'not', 'have', 'any', 'effect', ',', 'as', 'soon', 'as', 'the', 'window', 'is', 'closed', 'and', 'an', 'obstacle', 'in', 'the', 'window', 'frame', 'is', 'detected', 'by', 'back', 'pressure', ',', 'the', 'finger', 'protection', 'is', 'activated', ',', 'if', 'the', 'anti-trap', 'protection', 'is', 'activated', ',', 'the', 'window', 'can', 'no', 'longer', 'be', 'closed', ',', 'the', 'finger', 'protection', 'can', 'be', 'deactivated', 'by', 'briefly', 'pressing', 'the', 'open', 'button', ',', 'if', 'the', 'led', 'is', 'present', 'and', 'the', 'finger', 'protection', 'is', 'activated', ',', 'the', 'led', 'is', 'lit', ',', 'if', 'the', 'led', 'is', 'present', 'and', 'the', 'finger', 'protection', 'is', 'not', 'activated', ',', 'the', 'led', 'does', 'not', 'light', 'up', ',', 'when', 'the', 'mirror', 'is', 'folded', ',', 'pressing', 'the', 'central', 'button', 'will', 'cause', 'the', 'mirror', 'to', 'fold', 'out', ',', 'when', 'the', 'mirror', 'is', 'folded', 'out', 'and', 'the', 'vehicle', 'is', 'stationary', ',', 'pressing', 'the', 'central', 'button', 'causes', 'the', 'mirror', 'to', 'fold', ',', 'when', 'the', 'mirror', 'is', 'unfolded', 'and', 'the', 'vehicle', 'is', 'in', 'motion', ',', 'pressing', 'the', 'central', 'button', 'has', 'no', 'effect', ',', 'if', 'the', 'led', 'is', 'present', 'and', 'the', 'mirror', 'is', 'folded', 'in', ',', 'the', 'led', 'is', 'lit', ',', 'if', 'the', 'led', 'is', 'present', 'and', 'the', 'mirror', 'is', 'folded', 'out', ',', 'the', 'led', 'does', 'not', 'light', 'up', ',', 'pressing', 'the', 'directional', 'button', 'left', 'of', 'the', 'electrical', 'exterior', 'mirror', ',', 'causes', 'the', 'exterior', 'mirror', 'to', 'move', 'to', 'the', 'left', ',', 'this', 'only', 'works', 'when', 'the', 'exterior', 'mirror', 'has', 'moving', 'margin', 'to', 'the', 'left', ',', 'pressing', 'the', 'directional', 'button', 'right', 'of', 'the', 'electrical', 'exterior', 'mirror', 'causes', 'the', 'exterior', 'mirror', 'to', 'move', 'to', 'the', 'right', ',', 'this', 'only', 'works', 'when', 'the', 'exterior', 'mirror', 'has', 'movement', 'margin', 'to', 'the', 'right', ',', 'pressing', 'the', 'directional', 'button', 'up', 'of', 'the', 'electrical', 'exterior', 'mirror', 'causes', 'the', 'exterior', 'mirror', 'to', 'move', 'upwards', ',', 'this', 'only', 'works', 'when', 'the', 'exterior', 'mirror', 'has', 'moving', 'range', 'up', ',', 'pressing', 'on', 'the', 'directional', 'button', 'down', 'of', 'the', 'electrical', 'exterior', 'mirror', 'causes', 'the', 'exterior', 'mirror', 'to', 'move', 'downwards', '.', ',', 'this', 'only', 'works', 'when', 'the', 'exterior', 'mirror', 'has', 'movement', 'range', 'down', ',', 'two', 'temperatures', 'are', 'defined', ',', 'a', 'minimum', 'temperature', 'and', 'a', 'maximum', 'temperature', ',', 'if', 'the', 'temperature', 'measurement', 'on', 'the', 'exterior', 'mirror', 'falls', 'below', 'the', 'minimum', 'temperature', ',', 'the', 'exterior', 'mirror', 'heating', 'is', 'activated', ',', 'switching', 'off', 'the', 'vehicle', 'leads', 'to', 'the', 'switch-off', 'of', 'the', 'exterior', 'mirror', 'heater', ',', 'when', 'the', 'exterior', 'mirror', 'heating', 'is', 'activated', 'and', 'the', 'maximum', 'temperature', 'is', 'exceeded', ',', 'the', 'exterior', 'mirror', 'heating', 'is', 'deactivated', ',', 'if', 'the', 'led', 'is', 'present', 'and', 'the', 'exterior', 'mirror', 'heating', 'is', 'activated', ',', 'the', 'led', 'is', 'lit', ',', 'if', 'the', 'led', 'is', 'present', 'and', 'the', 'exterior', 'mirror', 'heater', 'is', 'not', 'activated', ',', 'the', 'led', 'does', 'not', 'light', 'up', ',', 'violent', 'opening', 'of', 'a', 'door', 'causes', 'an', 'alarm', 'to', 'be', 'triggered', 'when', 'the', 'alarm', 'is', 'active', ',', 'violent', 'opening', 'of', 'a', 'door', 'does', 'not', 'trigger', 'an', 'alarm', 'when', 'the', 'alarm', 'system', 'is', 'deactivated', ',', 'if', 'an', 'led', 'is', 'present', ',', 'an', 'ongoing', 'alarm', 'is', 'signaled', 'by', 'an', 'led', ',', 'alarm', 'is', 'automatically', 'terminated', 'after', '20', 'seconds', ',', 'after', 'which', 'a', 'message', 'will', 'be', 'displayed', 'if', 'leds', 'are', 'present', ',', 'alarm', 'can', 'be', 'deactivated', 'by', 'unlocking', 'the', 'vehicle', '.', ',', 'this', 'does', 'not', 'lead', 'to', 'a', 'message', 'when', 'leds', 'are', 'present', ',']\n"
     ]
    }
   ],
   "source": [
    "\n",
    "def clean(text):\n",
    "    text = text.lower()\n",
    "    printable = set(string.printable)\n",
    "    #text = filter(lambda x: x in printable, text) #filter funny characters, if any.\n",
    "    return text\n",
    "\n",
    "Cleaned_text = clean(Text)\n",
    "\n",
    "text = word_tokenize(Cleaned_text)\n",
    "\n",
    "print(text)\n",
    "\n"
   ]
  },
  {
   "cell_type": "code",
   "execution_count": 91,
   "metadata": {},
   "outputs": [
    {
     "name": "stdout",
     "output_type": "stream",
     "text": [
      "Tokenized Text with POS tags: \n",
      "\n",
      "[('deactivation', 'NN'), ('of', 'IN'), ('the', 'DT'), ('finger', 'NN'), ('protection', 'NN'), ('causes', 'VBZ'), ('the', 'DT'), ('led', 'VBN'), ('to', 'TO'), ('be', 'VB'), ('deactivated', 'VBN'), (',', ','), ('when', 'WRB'), ('the', 'DT'), ('central', 'JJ'), ('locking', 'NN'), ('system', 'NN'), ('is', 'VBZ'), ('active', 'JJ'), ('and', 'CC'), ('the', 'DT'), ('vehicle', 'NN'), ('is', 'VBZ'), ('closed', 'VBN'), (',', ','), ('the', 'DT'), ('led', 'VBN'), ('lights', 'NNS'), ('up', 'RB'), (',', ','), ('if', 'IN'), ('the', 'DT'), ('central', 'JJ'), ('locking', 'NN'), ('system', 'NN'), ('is', 'VBZ'), ('inactive', 'JJ'), ('and', 'CC'), ('the', 'DT'), ('vehicle', 'NN'), ('is', 'VBZ'), ('not', 'RB'), ('closed', 'VBN'), (',', ','), ('the', 'DT'), ('led', 'VBN'), ('does', 'VBZ'), ('not', 'RB'), ('light', 'VBN'), ('up', 'RP'), (',', ','), ('deactivating', 'VBG'), ('the', 'DT'), ('central', 'JJ'), ('locking', 'NN'), ('system', 'NN'), ('also', 'RB'), ('turns', 'VBZ'), ('off', 'IN'), ('the', 'DT'), ('led', 'VBN'), (',', ','), ('when', 'WRB'), ('all', 'DT'), ('windows', 'NNS'), ('are', 'VBP'), ('still', 'RB'), (',', ','), ('the', 'DT'), ('led', 'VBN'), ('does', 'VBZ'), ('not', 'RB'), ('light', 'JJ'), (',', ','), ('when', 'WRB'), ('the', 'DT'), ('button', 'NN'), ('for', 'IN'), ('closing', 'VBG'), ('a', 'DT'), ('window', 'NN'), ('is', 'VBZ'), ('pressed', 'VBN'), ('and', 'CC'), ('the', 'DT'), ('corresponding', 'JJ'), ('window', 'NN'), ('moves', 'VBZ'), ('up', 'RP'), (',', ','), ('the', 'DT'), ('led', 'VBN'), ('indicates', 'VBZ'), ('that', 'IN'), ('a', 'DT'), ('window', 'NN'), ('closes', 'NNS'), (',', ','), ('when', 'WRB'), ('the', 'DT'), ('button', 'NN'), ('for', 'IN'), ('opening', 'VBG'), ('a', 'DT'), ('window', 'NN'), ('is', 'VBZ'), ('pressed', 'VBN'), ('and', 'CC'), ('the', 'DT'), ('corresponding', 'JJ'), ('window', 'NN'), ('moves', 'NNS'), ('down', 'RB'), (',', ','), ('the', 'DT'), ('led', 'VBN'), ('indicates', 'VBZ'), ('that', 'IN'), ('a', 'DT'), ('window', 'NN'), ('is', 'VBZ'), ('opening', 'VBG'), (',', ','), ('closing', 'NN'), ('of', 'IN'), ('the', 'DT'), ('opening', 'NN'), ('or', 'CC'), ('closing', 'NN'), ('process', 'NN'), ('of', 'IN'), ('the', 'DT'), ('windows', 'NNS'), ('leads', 'VBZ'), ('to', 'TO'), ('deactivation', 'NN'), ('of', 'IN'), ('the', 'DT'), ('led', 'VBN'), (',', ','), ('the', 'DT'), ('led', 'VBN'), ('is', 'VBZ'), ('lit', 'VBN'), ('when', 'WRB'), ('the', 'DT'), ('exterior', 'JJ'), ('mirror', 'NN'), ('is', 'VBZ'), ('folded', 'VBN'), (',', ','), ('the', 'DT'), ('led', 'VBN'), ('does', 'VBZ'), ('not', 'RB'), ('light', 'VBN'), ('up', 'RP'), ('when', 'WRB'), ('the', 'DT'), ('exterior', 'JJ'), ('mirror', 'NN'), ('is', 'VBZ'), ('folded', 'VBN'), ('out', 'RP'), (',', ','), ('switching', 'VBG'), ('between', 'IN'), ('the', 'DT'), ('states', 'NNS'), ('of', 'IN'), ('the', 'DT'), ('viewing', 'VBG'), ('mirror', 'NN'), ('leads', 'VBZ'), ('to', 'TO'), ('the', 'DT'), ('change', 'NN'), ('between', 'IN'), ('the', 'DT'), ('states', 'NNS'), ('of', 'IN'), ('the', 'DT'), ('led', 'VBN'), (',', ','), ('a', 'DT'), ('special', 'JJ'), ('led', 'VBN'), ('for', 'IN'), ('each', 'DT'), ('direction', 'NN'), ('illuminates', 'VBZ'), ('when', 'WRB'), ('the', 'DT'), ('viewing', 'NN'), ('mirror', 'NN'), ('is', 'VBZ'), ('in', 'IN'), ('the', 'DT'), ('maximum', 'JJ'), ('position', 'NN'), ('in', 'IN'), ('this', 'DT'), ('direction', 'NN'), (',', ','), ('if', 'IN'), ('a', 'DT'), ('special', 'JJ'), ('led', 'VBN'), ('is', 'VBZ'), ('illuminated', 'VBN'), ('for', 'IN'), ('each', 'DT'), ('direction', 'NN'), (',', ','), ('when', 'WRB'), ('the', 'DT'), ('exterior', 'JJ'), ('mirror', 'NN'), ('is', 'VBZ'), ('in', 'IN'), ('the', 'DT'), ('maximum', 'JJ'), ('position', 'NN'), ('in', 'IN'), ('this', 'DT'), ('direction', 'NN'), ('and', 'CC'), ('the', 'DT'), ('mirror', 'NN'), ('is', 'VBZ'), ('back', 'RB'), (',', ','), ('then', 'RB'), ('when', 'WRB'), ('the', 'DT'), ('exterior', 'JJ'), ('mirror', 'NN'), ('heating', 'NN'), ('is', 'VBZ'), ('activated', 'VBN'), (',', ','), ('the', 'DT'), ('led', 'VBN'), ('is', 'VBZ'), ('lit', 'VBN'), (',', ','), ('if', 'IN'), ('the', 'DT'), ('exterior', 'JJ'), ('mirror', 'NN'), ('heating', 'NN'), ('is', 'VBZ'), ('deactivated', 'VBN'), (',', ','), ('the', 'DT'), ('led', 'VBN'), ('does', 'VBZ'), ('not', 'RB'), ('light', 'VBN'), ('up', 'RP'), (',', ','), ('deactivating', 'VBG'), ('the', 'DT'), ('exterior', 'JJ'), ('mirror', 'NN'), ('heating', 'VBG'), ('leads', 'NNS'), ('to', 'TO'), ('the', 'DT'), ('deactivation', 'NN'), ('of', 'IN'), ('the', 'DT'), ('led', 'VBN'), (',', ','), ('pressing', 'VBG'), ('the', 'DT'), ('button', 'NN'), ('to', 'TO'), ('close', 'VB'), ('the', 'DT'), ('window', 'NN'), ('will', 'MD'), ('cause', 'VB'), ('the', 'DT'), ('window', 'NN'), ('to', 'TO'), ('close', 'VB'), ('as', 'RB'), ('soon', 'RB'), ('as', 'IN'), ('the', 'DT'), ('print', 'NN'), ('is', 'VBZ'), ('exerted', 'VBN'), ('or', 'CC'), ('the', 'DT'), ('window', 'NN'), ('has', 'VBZ'), ('reached', 'VBN'), ('its', 'PRP$'), ('top', 'JJ'), (',', ','), ('pressing', 'VBG'), ('the', 'DT'), ('button', 'NN'), ('to', 'TO'), ('open', 'VB'), ('the', 'DT'), ('window', 'NN'), ('will', 'MD'), ('cause', 'VB'), ('the', 'DT'), ('window', 'NN'), ('to', 'TO'), ('open', 'VB'), ('as', 'RB'), ('long', 'RB'), ('as', 'IN'), ('the', 'DT'), ('print', 'NN'), ('is', 'VBZ'), ('running', 'VBG'), ('or', 'CC'), ('the', 'DT'), ('window', 'NN'), ('has', 'VBZ'), ('reached', 'VBN'), ('the', 'DT'), ('bottom', 'NN'), (',', ','), ('pressing', 'VBG'), ('the', 'DT'), ('button', 'NN'), ('to', 'TO'), ('open', 'VB'), ('the', 'DT'), ('window', 'NN'), ('will', 'MD'), ('open', 'VB'), ('the', 'DT'), ('window', 'NN'), ('completely', 'RB'), (',', ','), ('pressing', 'VBG'), ('the', 'DT'), ('button', 'NN'), ('to', 'TO'), ('close', 'VB'), ('the', 'DT'), ('window', 'NN'), ('will', 'MD'), ('cause', 'VB'), ('the', 'DT'), ('window', 'NN'), ('to', 'TO'), ('close', 'VB'), ('completely', 'RB'), (',', ','), ('if', 'IN'), ('the', 'DT'), ('window', 'NN'), ('is', 'VBZ'), ('just', 'RB'), ('opened', 'VBN'), (',', ','), ('pressing', 'VBG'), ('the', 'DT'), ('close', 'JJ'), ('button', 'NN'), ('will', 'MD'), ('cause', 'VB'), ('the', 'DT'), ('window', 'NN'), ('to', 'TO'), ('stop', 'VB'), (',', ','), ('if', 'IN'), ('the', 'DT'), ('window', 'NN'), ('is', 'VBZ'), ('just', 'RB'), ('opened', 'VBN'), (',', ','), ('nothing', 'NN'), ('happens', 'NNS'), ('by', 'IN'), ('pressing', 'VBG'), ('the', 'DT'), ('button', 'NN'), (',', ','), ('if', 'IN'), ('the', 'DT'), ('window', 'NN'), ('is', 'VBZ'), ('closed', 'VBN'), (',', ','), ('press', 'VB'), ('the', 'DT'), ('button', 'NN'), ('to', 'TO'), ('open', 'VB'), ('the', 'DT'), ('window', 'NN'), (',', ','), ('if', 'IN'), ('the', 'DT'), ('window', 'NN'), ('is', 'VBZ'), ('closed', 'VBN'), (',', ','), ('nothing', 'NN'), ('happens', 'NNS'), ('by', 'IN'), ('pressing', 'VBG'), ('the', 'DT'), ('key', 'NN'), (',', ','), ('when', 'WRB'), ('the', 'DT'), ('window', 'NN'), ('is', 'VBZ'), ('completely', 'RB'), ('open', 'JJ'), (',', ','), ('pressing', 'VBG'), ('the', 'DT'), ('button', 'NN'), ('for', 'IN'), ('opening', 'NN'), ('does', 'VBZ'), ('not', 'RB'), ('have', 'VB'), ('any', 'DT'), ('effect', 'NN'), (',', ','), ('if', 'IN'), ('the', 'DT'), ('window', 'NN'), ('is', 'VBZ'), ('completely', 'RB'), ('closed', 'VBN'), (',', ','), ('pressing', 'VBG'), ('the', 'DT'), ('key', 'NN'), ('for', 'IN'), ('closing', 'NN'), ('does', 'VBZ'), ('not', 'RB'), ('have', 'VB'), ('any', 'DT'), ('effect', 'NN'), (',', ','), ('as', 'RB'), ('soon', 'RB'), ('as', 'IN'), ('the', 'DT'), ('window', 'NN'), ('is', 'VBZ'), ('closed', 'VBN'), ('and', 'CC'), ('an', 'DT'), ('obstacle', 'NN'), ('in', 'IN'), ('the', 'DT'), ('window', 'NN'), ('frame', 'NN'), ('is', 'VBZ'), ('detected', 'VBN'), ('by', 'IN'), ('back', 'JJ'), ('pressure', 'NN'), (',', ','), ('the', 'DT'), ('finger', 'NN'), ('protection', 'NN'), ('is', 'VBZ'), ('activated', 'VBN'), (',', ','), ('if', 'IN'), ('the', 'DT'), ('anti-trap', 'JJ'), ('protection', 'NN'), ('is', 'VBZ'), ('activated', 'VBN'), (',', ','), ('the', 'DT'), ('window', 'NN'), ('can', 'MD'), ('no', 'RB'), ('longer', 'RB'), ('be', 'VB'), ('closed', 'VBN'), (',', ','), ('the', 'DT'), ('finger', 'NN'), ('protection', 'NN'), ('can', 'MD'), ('be', 'VB'), ('deactivated', 'VBN'), ('by', 'IN'), ('briefly', 'NN'), ('pressing', 'VBG'), ('the', 'DT'), ('open', 'JJ'), ('button', 'NN'), (',', ','), ('if', 'IN'), ('the', 'DT'), ('led', 'VBN'), ('is', 'VBZ'), ('present', 'JJ'), ('and', 'CC'), ('the', 'DT'), ('finger', 'NN'), ('protection', 'NN'), ('is', 'VBZ'), ('activated', 'VBN'), (',', ','), ('the', 'DT'), ('led', 'VBN'), ('is', 'VBZ'), ('lit', 'VBN'), (',', ','), ('if', 'IN'), ('the', 'DT'), ('led', 'VBN'), ('is', 'VBZ'), ('present', 'JJ'), ('and', 'CC'), ('the', 'DT'), ('finger', 'NN'), ('protection', 'NN'), ('is', 'VBZ'), ('not', 'RB'), ('activated', 'VBN'), (',', ','), ('the', 'DT'), ('led', 'VBN'), ('does', 'VBZ'), ('not', 'RB'), ('light', 'VBN'), ('up', 'RP'), (',', ','), ('when', 'WRB'), ('the', 'DT'), ('mirror', 'NN'), ('is', 'VBZ'), ('folded', 'VBN'), (',', ','), ('pressing', 'VBG'), ('the', 'DT'), ('central', 'JJ'), ('button', 'NN'), ('will', 'MD'), ('cause', 'VB'), ('the', 'DT'), ('mirror', 'NN'), ('to', 'TO'), ('fold', 'VB'), ('out', 'RP'), (',', ','), ('when', 'WRB'), ('the', 'DT'), ('mirror', 'NN'), ('is', 'VBZ'), ('folded', 'VBN'), ('out', 'RP'), ('and', 'CC'), ('the', 'DT'), ('vehicle', 'NN'), ('is', 'VBZ'), ('stationary', 'JJ'), (',', ','), ('pressing', 'VBG'), ('the', 'DT'), ('central', 'JJ'), ('button', 'NN'), ('causes', 'VBZ'), ('the', 'DT'), ('mirror', 'NN'), ('to', 'TO'), ('fold', 'VB'), (',', ','), ('when', 'WRB'), ('the', 'DT'), ('mirror', 'NN'), ('is', 'VBZ'), ('unfolded', 'JJ'), ('and', 'CC'), ('the', 'DT'), ('vehicle', 'NN'), ('is', 'VBZ'), ('in', 'IN'), ('motion', 'NN'), (',', ','), ('pressing', 'VBG'), ('the', 'DT'), ('central', 'JJ'), ('button', 'NN'), ('has', 'VBZ'), ('no', 'DT'), ('effect', 'NN'), (',', ','), ('if', 'IN'), ('the', 'DT'), ('led', 'VBN'), ('is', 'VBZ'), ('present', 'JJ'), ('and', 'CC'), ('the', 'DT'), ('mirror', 'NN'), ('is', 'VBZ'), ('folded', 'VBN'), ('in', 'IN'), (',', ','), ('the', 'DT'), ('led', 'VBN'), ('is', 'VBZ'), ('lit', 'VBN'), (',', ','), ('if', 'IN'), ('the', 'DT'), ('led', 'VBN'), ('is', 'VBZ'), ('present', 'JJ'), ('and', 'CC'), ('the', 'DT'), ('mirror', 'NN'), ('is', 'VBZ'), ('folded', 'VBN'), ('out', 'RP'), (',', ','), ('the', 'DT'), ('led', 'VBN'), ('does', 'VBZ'), ('not', 'RB'), ('light', 'VBN'), ('up', 'RP'), (',', ','), ('pressing', 'VBG'), ('the', 'DT'), ('directional', 'JJ'), ('button', 'NN'), ('left', 'NN'), ('of', 'IN'), ('the', 'DT'), ('electrical', 'JJ'), ('exterior', 'JJ'), ('mirror', 'NN'), (',', ','), ('causes', 'VBZ'), ('the', 'DT'), ('exterior', 'JJ'), ('mirror', 'NN'), ('to', 'TO'), ('move', 'VB'), ('to', 'TO'), ('the', 'DT'), ('left', 'NN'), (',', ','), ('this', 'DT'), ('only', 'JJ'), ('works', 'VBZ'), ('when', 'WRB'), ('the', 'DT'), ('exterior', 'JJ'), ('mirror', 'NN'), ('has', 'VBZ'), ('moving', 'VBG'), ('margin', 'NN'), ('to', 'TO'), ('the', 'DT'), ('left', 'NN'), (',', ','), ('pressing', 'VBG'), ('the', 'DT'), ('directional', 'JJ'), ('button', 'NN'), ('right', 'NN'), ('of', 'IN'), ('the', 'DT'), ('electrical', 'JJ'), ('exterior', 'JJ'), ('mirror', 'NN'), ('causes', 'VBZ'), ('the', 'DT'), ('exterior', 'JJ'), ('mirror', 'NN'), ('to', 'TO'), ('move', 'VB'), ('to', 'TO'), ('the', 'DT'), ('right', 'NN'), (',', ','), ('this', 'DT'), ('only', 'JJ'), ('works', 'VBZ'), ('when', 'WRB'), ('the', 'DT'), ('exterior', 'JJ'), ('mirror', 'NN'), ('has', 'VBZ'), ('movement', 'NN'), ('margin', 'NN'), ('to', 'TO'), ('the', 'DT'), ('right', 'NN'), (',', ','), ('pressing', 'VBG'), ('the', 'DT'), ('directional', 'JJ'), ('button', 'NN'), ('up', 'IN'), ('of', 'IN'), ('the', 'DT'), ('electrical', 'JJ'), ('exterior', 'JJ'), ('mirror', 'NN'), ('causes', 'VBZ'), ('the', 'DT'), ('exterior', 'JJ'), ('mirror', 'NN'), ('to', 'TO'), ('move', 'VB'), ('upwards', 'NNS'), (',', ','), ('this', 'DT'), ('only', 'JJ'), ('works', 'VBZ'), ('when', 'WRB'), ('the', 'DT'), ('exterior', 'JJ'), ('mirror', 'NN'), ('has', 'VBZ'), ('moving', 'VBG'), ('range', 'VB'), ('up', 'RP'), (',', ','), ('pressing', 'VBG'), ('on', 'IN'), ('the', 'DT'), ('directional', 'JJ'), ('button', 'NN'), ('down', 'IN'), ('of', 'IN'), ('the', 'DT'), ('electrical', 'JJ'), ('exterior', 'JJ'), ('mirror', 'NN'), ('causes', 'VBZ'), ('the', 'DT'), ('exterior', 'JJ'), ('mirror', 'NN'), ('to', 'TO'), ('move', 'VB'), ('downwards', 'NNS'), ('.', '.'), (',', ','), ('this', 'DT'), ('only', 'JJ'), ('works', 'VBZ'), ('when', 'WRB'), ('the', 'DT'), ('exterior', 'JJ'), ('mirror', 'NN'), ('has', 'VBZ'), ('movement', 'NN'), ('range', 'NN'), ('down', 'RB'), (',', ','), ('two', 'CD'), ('temperatures', 'NNS'), ('are', 'VBP'), ('defined', 'VBN'), (',', ','), ('a', 'DT'), ('minimum', 'JJ'), ('temperature', 'NN'), ('and', 'CC'), ('a', 'DT'), ('maximum', 'JJ'), ('temperature', 'NN'), (',', ','), ('if', 'IN'), ('the', 'DT'), ('temperature', 'NN'), ('measurement', 'NN'), ('on', 'IN'), ('the', 'DT'), ('exterior', 'JJ'), ('mirror', 'NN'), ('falls', 'VBZ'), ('below', 'IN'), ('the', 'DT'), ('minimum', 'JJ'), ('temperature', 'NN'), (',', ','), ('the', 'DT'), ('exterior', 'JJ'), ('mirror', 'NN'), ('heating', 'NN'), ('is', 'VBZ'), ('activated', 'VBN'), (',', ','), ('switching', 'VBG'), ('off', 'RP'), ('the', 'DT'), ('vehicle', 'NN'), ('leads', 'VBZ'), ('to', 'TO'), ('the', 'DT'), ('switch-off', 'NN'), ('of', 'IN'), ('the', 'DT'), ('exterior', 'JJ'), ('mirror', 'NN'), ('heater', 'NN'), (',', ','), ('when', 'WRB'), ('the', 'DT'), ('exterior', 'JJ'), ('mirror', 'NN'), ('heating', 'NN'), ('is', 'VBZ'), ('activated', 'VBN'), ('and', 'CC'), ('the', 'DT'), ('maximum', 'JJ'), ('temperature', 'NN'), ('is', 'VBZ'), ('exceeded', 'VBN'), (',', ','), ('the', 'DT'), ('exterior', 'JJ'), ('mirror', 'NN'), ('heating', 'NN'), ('is', 'VBZ'), ('deactivated', 'VBN'), (',', ','), ('if', 'IN'), ('the', 'DT'), ('led', 'VBN'), ('is', 'VBZ'), ('present', 'JJ'), ('and', 'CC'), ('the', 'DT'), ('exterior', 'JJ'), ('mirror', 'NN'), ('heating', 'NN'), ('is', 'VBZ'), ('activated', 'VBN'), (',', ','), ('the', 'DT'), ('led', 'VBN'), ('is', 'VBZ'), ('lit', 'VBN'), (',', ','), ('if', 'IN'), ('the', 'DT'), ('led', 'VBN'), ('is', 'VBZ'), ('present', 'JJ'), ('and', 'CC'), ('the', 'DT'), ('exterior', 'JJ'), ('mirror', 'NN'), ('heater', 'NN'), ('is', 'VBZ'), ('not', 'RB'), ('activated', 'VBN'), (',', ','), ('the', 'DT'), ('led', 'VBN'), ('does', 'VBZ'), ('not', 'RB'), ('light', 'VBN'), ('up', 'RP'), (',', ','), ('violent', 'JJ'), ('opening', 'NN'), ('of', 'IN'), ('a', 'DT'), ('door', 'NN'), ('causes', 'VBZ'), ('an', 'DT'), ('alarm', 'NN'), ('to', 'TO'), ('be', 'VB'), ('triggered', 'VBN'), ('when', 'WRB'), ('the', 'DT'), ('alarm', 'NN'), ('is', 'VBZ'), ('active', 'JJ'), (',', ','), ('violent', 'JJ'), ('opening', 'NN'), ('of', 'IN'), ('a', 'DT'), ('door', 'NN'), ('does', 'VBZ'), ('not', 'RB'), ('trigger', 'VB'), ('an', 'DT'), ('alarm', 'NN'), ('when', 'WRB'), ('the', 'DT'), ('alarm', 'NN'), ('system', 'NN'), ('is', 'VBZ'), ('deactivated', 'VBN'), (',', ','), ('if', 'IN'), ('an', 'DT'), ('led', 'VBN'), ('is', 'VBZ'), ('present', 'JJ'), (',', ','), ('an', 'DT'), ('ongoing', 'JJ'), ('alarm', 'NN'), ('is', 'VBZ'), ('signaled', 'VBN'), ('by', 'IN'), ('an', 'DT'), ('led', 'VBN'), (',', ','), ('alarm', 'NN'), ('is', 'VBZ'), ('automatically', 'RB'), ('terminated', 'VBN'), ('after', 'IN'), ('20', 'CD'), ('seconds', 'NNS'), (',', ','), ('after', 'IN'), ('which', 'WDT'), ('a', 'DT'), ('message', 'NN'), ('will', 'MD'), ('be', 'VB'), ('displayed', 'VBN'), ('if', 'IN'), ('leds', 'NNS'), ('are', 'VBP'), ('present', 'JJ'), (',', ','), ('alarm', 'NN'), ('can', 'MD'), ('be', 'VB'), ('deactivated', 'VBN'), ('by', 'IN'), ('unlocking', 'VBG'), ('the', 'DT'), ('vehicle', 'NN'), ('.', '.'), (',', ','), ('this', 'DT'), ('does', 'VBZ'), ('not', 'RB'), ('lead', 'VB'), ('to', 'TO'), ('a', 'DT'), ('message', 'NN'), ('when', 'WRB'), ('leds', 'NNS'), ('are', 'VBP'), ('present', 'JJ'), (',', ',')]\n"
     ]
    }
   ],
   "source": [
    "POS_tag = nltk.pos_tag(text)\n",
    "\n",
    "print(\"Tokenized Text with POS tags: \\n\")\n",
    "print(POS_tag)"
   ]
  },
  {
   "cell_type": "code",
   "execution_count": 92,
   "metadata": {},
   "outputs": [
    {
     "name": "stdout",
     "output_type": "stream",
     "text": [
      "Text tokens after lemmatization of adjectives and nouns: \n",
      "\n",
      "['deactivation', 'of', 'the', 'finger', 'protection', 'cause', 'the', 'led', 'to', 'be', 'deactivated', ',', 'when', 'the', 'central', 'locking', 'system', 'is', 'active', 'and', 'the', 'vehicle', 'is', 'closed', ',', 'the', 'led', 'light', 'up', ',', 'if', 'the', 'central', 'locking', 'system', 'is', 'inactive', 'and', 'the', 'vehicle', 'is', 'not', 'closed', ',', 'the', 'led', 'doe', 'not', 'light', 'up', ',', 'deactivating', 'the', 'central', 'locking', 'system', 'also', 'turn', 'off', 'the', 'led', ',', 'when', 'all', 'window', 'are', 'still', ',', 'the', 'led', 'doe', 'not', 'light', ',', 'when', 'the', 'button', 'for', 'closing', 'a', 'window', 'is', 'pressed', 'and', 'the', 'corresponding', 'window', 'move', 'up', ',', 'the', 'led', 'indicates', 'that', 'a', 'window', 'close', ',', 'when', 'the', 'button', 'for', 'opening', 'a', 'window', 'is', 'pressed', 'and', 'the', 'corresponding', 'window', 'move', 'down', ',', 'the', 'led', 'indicates', 'that', 'a', 'window', 'is', 'opening', ',', 'closing', 'of', 'the', 'opening', 'or', 'closing', 'process', 'of', 'the', 'window', 'lead', 'to', 'deactivation', 'of', 'the', 'led', ',', 'the', 'led', 'is', 'lit', 'when', 'the', 'exterior', 'mirror', 'is', 'folded', ',', 'the', 'led', 'doe', 'not', 'light', 'up', 'when', 'the', 'exterior', 'mirror', 'is', 'folded', 'out', ',', 'switching', 'between', 'the', 'state', 'of', 'the', 'viewing', 'mirror', 'lead', 'to', 'the', 'change', 'between', 'the', 'state', 'of', 'the', 'led', ',', 'a', 'special', 'led', 'for', 'each', 'direction', 'illuminates', 'when', 'the', 'viewing', 'mirror', 'is', 'in', 'the', 'maximum', 'position', 'in', 'this', 'direction', ',', 'if', 'a', 'special', 'led', 'is', 'illuminated', 'for', 'each', 'direction', ',', 'when', 'the', 'exterior', 'mirror', 'is', 'in', 'the', 'maximum', 'position', 'in', 'this', 'direction', 'and', 'the', 'mirror', 'is', 'back', ',', 'then', 'when', 'the', 'exterior', 'mirror', 'heating', 'is', 'activated', ',', 'the', 'led', 'is', 'lit', ',', 'if', 'the', 'exterior', 'mirror', 'heating', 'is', 'deactivated', ',', 'the', 'led', 'doe', 'not', 'light', 'up', ',', 'deactivating', 'the', 'exterior', 'mirror', 'heating', 'lead', 'to', 'the', 'deactivation', 'of', 'the', 'led', ',', 'pressing', 'the', 'button', 'to', 'close', 'the', 'window', 'will', 'cause', 'the', 'window', 'to', 'close', 'a', 'soon', 'a', 'the', 'print', 'is', 'exerted', 'or', 'the', 'window', 'ha', 'reached', 'it', 'top', ',', 'pressing', 'the', 'button', 'to', 'open', 'the', 'window', 'will', 'cause', 'the', 'window', 'to', 'open', 'a', 'long', 'a', 'the', 'print', 'is', 'running', 'or', 'the', 'window', 'ha', 'reached', 'the', 'bottom', ',', 'pressing', 'the', 'button', 'to', 'open', 'the', 'window', 'will', 'open', 'the', 'window', 'completely', ',', 'pressing', 'the', 'button', 'to', 'close', 'the', 'window', 'will', 'cause', 'the', 'window', 'to', 'close', 'completely', ',', 'if', 'the', 'window', 'is', 'just', 'opened', ',', 'pressing', 'the', 'close', 'button', 'will', 'cause', 'the', 'window', 'to', 'stop', ',', 'if', 'the', 'window', 'is', 'just', 'opened', ',', 'nothing', 'happens', 'by', 'pressing', 'the', 'button', ',', 'if', 'the', 'window', 'is', 'closed', ',', 'press', 'the', 'button', 'to', 'open', 'the', 'window', ',', 'if', 'the', 'window', 'is', 'closed', ',', 'nothing', 'happens', 'by', 'pressing', 'the', 'key', ',', 'when', 'the', 'window', 'is', 'completely', 'open', ',', 'pressing', 'the', 'button', 'for', 'opening', 'doe', 'not', 'have', 'any', 'effect', ',', 'if', 'the', 'window', 'is', 'completely', 'closed', ',', 'pressing', 'the', 'key', 'for', 'closing', 'doe', 'not', 'have', 'any', 'effect', ',', 'a', 'soon', 'a', 'the', 'window', 'is', 'closed', 'and', 'an', 'obstacle', 'in', 'the', 'window', 'frame', 'is', 'detected', 'by', 'back', 'pressure', ',', 'the', 'finger', 'protection', 'is', 'activated', ',', 'if', 'the', 'anti-trap', 'protection', 'is', 'activated', ',', 'the', 'window', 'can', 'no', 'longer', 'be', 'closed', ',', 'the', 'finger', 'protection', 'can', 'be', 'deactivated', 'by', 'briefly', 'pressing', 'the', 'open', 'button', ',', 'if', 'the', 'led', 'is', 'present', 'and', 'the', 'finger', 'protection', 'is', 'activated', ',', 'the', 'led', 'is', 'lit', ',', 'if', 'the', 'led', 'is', 'present', 'and', 'the', 'finger', 'protection', 'is', 'not', 'activated', ',', 'the', 'led', 'doe', 'not', 'light', 'up', ',', 'when', 'the', 'mirror', 'is', 'folded', ',', 'pressing', 'the', 'central', 'button', 'will', 'cause', 'the', 'mirror', 'to', 'fold', 'out', ',', 'when', 'the', 'mirror', 'is', 'folded', 'out', 'and', 'the', 'vehicle', 'is', 'stationary', ',', 'pressing', 'the', 'central', 'button', 'cause', 'the', 'mirror', 'to', 'fold', ',', 'when', 'the', 'mirror', 'is', 'unfolded', 'and', 'the', 'vehicle', 'is', 'in', 'motion', ',', 'pressing', 'the', 'central', 'button', 'ha', 'no', 'effect', ',', 'if', 'the', 'led', 'is', 'present', 'and', 'the', 'mirror', 'is', 'folded', 'in', ',', 'the', 'led', 'is', 'lit', ',', 'if', 'the', 'led', 'is', 'present', 'and', 'the', 'mirror', 'is', 'folded', 'out', ',', 'the', 'led', 'doe', 'not', 'light', 'up', ',', 'pressing', 'the', 'directional', 'button', 'left', 'of', 'the', 'electrical', 'exterior', 'mirror', ',', 'cause', 'the', 'exterior', 'mirror', 'to', 'move', 'to', 'the', 'left', ',', 'this', 'only', 'work', 'when', 'the', 'exterior', 'mirror', 'ha', 'moving', 'margin', 'to', 'the', 'left', ',', 'pressing', 'the', 'directional', 'button', 'right', 'of', 'the', 'electrical', 'exterior', 'mirror', 'cause', 'the', 'exterior', 'mirror', 'to', 'move', 'to', 'the', 'right', ',', 'this', 'only', 'work', 'when', 'the', 'exterior', 'mirror', 'ha', 'movement', 'margin', 'to', 'the', 'right', ',', 'pressing', 'the', 'directional', 'button', 'up', 'of', 'the', 'electrical', 'exterior', 'mirror', 'cause', 'the', 'exterior', 'mirror', 'to', 'move', 'upwards', ',', 'this', 'only', 'work', 'when', 'the', 'exterior', 'mirror', 'ha', 'moving', 'range', 'up', ',', 'pressing', 'on', 'the', 'directional', 'button', 'down', 'of', 'the', 'electrical', 'exterior', 'mirror', 'cause', 'the', 'exterior', 'mirror', 'to', 'move', 'downwards', '.', ',', 'this', 'only', 'work', 'when', 'the', 'exterior', 'mirror', 'ha', 'movement', 'range', 'down', ',', 'two', 'temperature', 'are', 'defined', ',', 'a', 'minimum', 'temperature', 'and', 'a', 'maximum', 'temperature', ',', 'if', 'the', 'temperature', 'measurement', 'on', 'the', 'exterior', 'mirror', 'fall', 'below', 'the', 'minimum', 'temperature', ',', 'the', 'exterior', 'mirror', 'heating', 'is', 'activated', ',', 'switching', 'off', 'the', 'vehicle', 'lead', 'to', 'the', 'switch-off', 'of', 'the', 'exterior', 'mirror', 'heater', ',', 'when', 'the', 'exterior', 'mirror', 'heating', 'is', 'activated', 'and', 'the', 'maximum', 'temperature', 'is', 'exceeded', ',', 'the', 'exterior', 'mirror', 'heating', 'is', 'deactivated', ',', 'if', 'the', 'led', 'is', 'present', 'and', 'the', 'exterior', 'mirror', 'heating', 'is', 'activated', ',', 'the', 'led', 'is', 'lit', ',', 'if', 'the', 'led', 'is', 'present', 'and', 'the', 'exterior', 'mirror', 'heater', 'is', 'not', 'activated', ',', 'the', 'led', 'doe', 'not', 'light', 'up', ',', 'violent', 'opening', 'of', 'a', 'door', 'cause', 'an', 'alarm', 'to', 'be', 'triggered', 'when', 'the', 'alarm', 'is', 'active', ',', 'violent', 'opening', 'of', 'a', 'door', 'doe', 'not', 'trigger', 'an', 'alarm', 'when', 'the', 'alarm', 'system', 'is', 'deactivated', ',', 'if', 'an', 'led', 'is', 'present', ',', 'an', 'ongoing', 'alarm', 'is', 'signaled', 'by', 'an', 'led', ',', 'alarm', 'is', 'automatically', 'terminated', 'after', '20', 'second', ',', 'after', 'which', 'a', 'message', 'will', 'be', 'displayed', 'if', 'led', 'are', 'present', ',', 'alarm', 'can', 'be', 'deactivated', 'by', 'unlocking', 'the', 'vehicle', '.', ',', 'this', 'doe', 'not', 'lead', 'to', 'a', 'message', 'when', 'led', 'are', 'present', ',']\n"
     ]
    }
   ],
   "source": [
    "from nltk.stem import WordNetLemmatizer\n",
    "\n",
    "wordnet_lemmatizer = WordNetLemmatizer()\n",
    "\n",
    "adjective_tags = ['JJ','JJR','JJS']\n",
    "\n",
    "lemmatized_text = []\n",
    "\n",
    "for word in POS_tag:\n",
    "    if word[1] in adjective_tags:\n",
    "        lemmatized_text.append(str(wordnet_lemmatizer.lemmatize(word[0],pos=\"a\")))\n",
    "    else:\n",
    "        lemmatized_text.append(str(wordnet_lemmatizer.lemmatize(word[0]))) #default POS = noun\n",
    "        \n",
    "print (\"Text tokens after lemmatization of adjectives and nouns: \\n\")\n",
    "print (lemmatized_text)"
   ]
  },
  {
   "cell_type": "code",
   "execution_count": 93,
   "metadata": {},
   "outputs": [
    {
     "name": "stdout",
     "output_type": "stream",
     "text": [
      "Lemmatized text with POS tags: \n",
      "\n",
      "[('deactivation', 'NN'), ('of', 'IN'), ('the', 'DT'), ('finger', 'NN'), ('protection', 'NN'), ('cause', 'VBP'), ('the', 'DT'), ('led', 'VBN'), ('to', 'TO'), ('be', 'VB'), ('deactivated', 'VBN'), (',', ','), ('when', 'WRB'), ('the', 'DT'), ('central', 'JJ'), ('locking', 'NN'), ('system', 'NN'), ('is', 'VBZ'), ('active', 'JJ'), ('and', 'CC'), ('the', 'DT'), ('vehicle', 'NN'), ('is', 'VBZ'), ('closed', 'VBN'), (',', ','), ('the', 'DT'), ('led', 'VBN'), ('light', 'NN'), ('up', 'RB'), (',', ','), ('if', 'IN'), ('the', 'DT'), ('central', 'JJ'), ('locking', 'NN'), ('system', 'NN'), ('is', 'VBZ'), ('inactive', 'JJ'), ('and', 'CC'), ('the', 'DT'), ('vehicle', 'NN'), ('is', 'VBZ'), ('not', 'RB'), ('closed', 'VBN'), (',', ','), ('the', 'DT'), ('led', 'VBN'), ('doe', 'NN'), ('not', 'RB'), ('light', 'VBD'), ('up', 'RP'), (',', ','), ('deactivating', 'VBG'), ('the', 'DT'), ('central', 'JJ'), ('locking', 'NN'), ('system', 'NN'), ('also', 'RB'), ('turn', 'VB'), ('off', 'RP'), ('the', 'DT'), ('led', 'VBN'), (',', ','), ('when', 'WRB'), ('all', 'DT'), ('window', 'NN'), ('are', 'VBP'), ('still', 'RB'), (',', ','), ('the', 'DT'), ('led', 'VBN'), ('doe', 'NN'), ('not', 'RB'), ('light', 'JJ'), (',', ','), ('when', 'WRB'), ('the', 'DT'), ('button', 'NN'), ('for', 'IN'), ('closing', 'VBG'), ('a', 'DT'), ('window', 'NN'), ('is', 'VBZ'), ('pressed', 'VBN'), ('and', 'CC'), ('the', 'DT'), ('corresponding', 'NN'), ('window', 'NN'), ('move', 'NN'), ('up', 'RB'), (',', ','), ('the', 'DT'), ('led', 'VBN'), ('indicates', 'VBZ'), ('that', 'IN'), ('a', 'DT'), ('window', 'NN'), ('close', 'RB'), (',', ','), ('when', 'WRB'), ('the', 'DT'), ('button', 'NN'), ('for', 'IN'), ('opening', 'VBG'), ('a', 'DT'), ('window', 'NN'), ('is', 'VBZ'), ('pressed', 'VBN'), ('and', 'CC'), ('the', 'DT'), ('corresponding', 'NN'), ('window', 'NN'), ('move', 'VBP'), ('down', 'RB'), (',', ','), ('the', 'DT'), ('led', 'VBN'), ('indicates', 'VBZ'), ('that', 'IN'), ('a', 'DT'), ('window', 'NN'), ('is', 'VBZ'), ('opening', 'VBG'), (',', ','), ('closing', 'NN'), ('of', 'IN'), ('the', 'DT'), ('opening', 'NN'), ('or', 'CC'), ('closing', 'NN'), ('process', 'NN'), ('of', 'IN'), ('the', 'DT'), ('window', 'JJ'), ('lead', 'NN'), ('to', 'TO'), ('deactivation', 'NN'), ('of', 'IN'), ('the', 'DT'), ('led', 'VBN'), (',', ','), ('the', 'DT'), ('led', 'VBN'), ('is', 'VBZ'), ('lit', 'VBN'), ('when', 'WRB'), ('the', 'DT'), ('exterior', 'JJ'), ('mirror', 'NN'), ('is', 'VBZ'), ('folded', 'VBN'), (',', ','), ('the', 'DT'), ('led', 'VBN'), ('doe', 'NN'), ('not', 'RB'), ('light', 'VBD'), ('up', 'RP'), ('when', 'WRB'), ('the', 'DT'), ('exterior', 'JJ'), ('mirror', 'NN'), ('is', 'VBZ'), ('folded', 'VBN'), ('out', 'RP'), (',', ','), ('switching', 'VBG'), ('between', 'IN'), ('the', 'DT'), ('state', 'NN'), ('of', 'IN'), ('the', 'DT'), ('viewing', 'VBG'), ('mirror', 'NN'), ('lead', 'NN'), ('to', 'TO'), ('the', 'DT'), ('change', 'NN'), ('between', 'IN'), ('the', 'DT'), ('state', 'NN'), ('of', 'IN'), ('the', 'DT'), ('led', 'VBN'), (',', ','), ('a', 'DT'), ('special', 'JJ'), ('led', 'VBN'), ('for', 'IN'), ('each', 'DT'), ('direction', 'NN'), ('illuminates', 'VBZ'), ('when', 'WRB'), ('the', 'DT'), ('viewing', 'NN'), ('mirror', 'NN'), ('is', 'VBZ'), ('in', 'IN'), ('the', 'DT'), ('maximum', 'JJ'), ('position', 'NN'), ('in', 'IN'), ('this', 'DT'), ('direction', 'NN'), (',', ','), ('if', 'IN'), ('a', 'DT'), ('special', 'JJ'), ('led', 'VBN'), ('is', 'VBZ'), ('illuminated', 'VBN'), ('for', 'IN'), ('each', 'DT'), ('direction', 'NN'), (',', ','), ('when', 'WRB'), ('the', 'DT'), ('exterior', 'JJ'), ('mirror', 'NN'), ('is', 'VBZ'), ('in', 'IN'), ('the', 'DT'), ('maximum', 'JJ'), ('position', 'NN'), ('in', 'IN'), ('this', 'DT'), ('direction', 'NN'), ('and', 'CC'), ('the', 'DT'), ('mirror', 'NN'), ('is', 'VBZ'), ('back', 'RB'), (',', ','), ('then', 'RB'), ('when', 'WRB'), ('the', 'DT'), ('exterior', 'JJ'), ('mirror', 'NN'), ('heating', 'NN'), ('is', 'VBZ'), ('activated', 'VBN'), (',', ','), ('the', 'DT'), ('led', 'VBN'), ('is', 'VBZ'), ('lit', 'VBN'), (',', ','), ('if', 'IN'), ('the', 'DT'), ('exterior', 'JJ'), ('mirror', 'NN'), ('heating', 'NN'), ('is', 'VBZ'), ('deactivated', 'VBN'), (',', ','), ('the', 'DT'), ('led', 'VBN'), ('doe', 'NN'), ('not', 'RB'), ('light', 'VBD'), ('up', 'RP'), (',', ','), ('deactivating', 'VBG'), ('the', 'DT'), ('exterior', 'JJ'), ('mirror', 'NN'), ('heating', 'VBG'), ('lead', 'NN'), ('to', 'TO'), ('the', 'DT'), ('deactivation', 'NN'), ('of', 'IN'), ('the', 'DT'), ('led', 'VBN'), (',', ','), ('pressing', 'VBG'), ('the', 'DT'), ('button', 'NN'), ('to', 'TO'), ('close', 'VB'), ('the', 'DT'), ('window', 'NN'), ('will', 'MD'), ('cause', 'VB'), ('the', 'DT'), ('window', 'NN'), ('to', 'TO'), ('close', 'VB'), ('a', 'DT'), ('soon', 'RB'), ('a', 'DT'), ('the', 'DT'), ('print', 'NN'), ('is', 'VBZ'), ('exerted', 'VBN'), ('or', 'CC'), ('the', 'DT'), ('window', 'NN'), ('ha', 'NN'), ('reached', 'VBD'), ('it', 'PRP'), ('top', 'JJ'), (',', ','), ('pressing', 'VBG'), ('the', 'DT'), ('button', 'NN'), ('to', 'TO'), ('open', 'VB'), ('the', 'DT'), ('window', 'NN'), ('will', 'MD'), ('cause', 'VB'), ('the', 'DT'), ('window', 'NN'), ('to', 'TO'), ('open', 'VB'), ('a', 'DT'), ('long', 'JJ'), ('a', 'DT'), ('the', 'DT'), ('print', 'NN'), ('is', 'VBZ'), ('running', 'VBG'), ('or', 'CC'), ('the', 'DT'), ('window', 'NN'), ('ha', 'NN'), ('reached', 'VBD'), ('the', 'DT'), ('bottom', 'NN'), (',', ','), ('pressing', 'VBG'), ('the', 'DT'), ('button', 'NN'), ('to', 'TO'), ('open', 'VB'), ('the', 'DT'), ('window', 'NN'), ('will', 'MD'), ('open', 'VB'), ('the', 'DT'), ('window', 'NN'), ('completely', 'RB'), (',', ','), ('pressing', 'VBG'), ('the', 'DT'), ('button', 'NN'), ('to', 'TO'), ('close', 'VB'), ('the', 'DT'), ('window', 'NN'), ('will', 'MD'), ('cause', 'VB'), ('the', 'DT'), ('window', 'NN'), ('to', 'TO'), ('close', 'VB'), ('completely', 'RB'), (',', ','), ('if', 'IN'), ('the', 'DT'), ('window', 'NN'), ('is', 'VBZ'), ('just', 'RB'), ('opened', 'VBN'), (',', ','), ('pressing', 'VBG'), ('the', 'DT'), ('close', 'JJ'), ('button', 'NN'), ('will', 'MD'), ('cause', 'VB'), ('the', 'DT'), ('window', 'NN'), ('to', 'TO'), ('stop', 'VB'), (',', ','), ('if', 'IN'), ('the', 'DT'), ('window', 'NN'), ('is', 'VBZ'), ('just', 'RB'), ('opened', 'VBN'), (',', ','), ('nothing', 'NN'), ('happens', 'NNS'), ('by', 'IN'), ('pressing', 'VBG'), ('the', 'DT'), ('button', 'NN'), (',', ','), ('if', 'IN'), ('the', 'DT'), ('window', 'NN'), ('is', 'VBZ'), ('closed', 'VBN'), (',', ','), ('press', 'VB'), ('the', 'DT'), ('button', 'NN'), ('to', 'TO'), ('open', 'VB'), ('the', 'DT'), ('window', 'NN'), (',', ','), ('if', 'IN'), ('the', 'DT'), ('window', 'NN'), ('is', 'VBZ'), ('closed', 'VBN'), (',', ','), ('nothing', 'NN'), ('happens', 'NNS'), ('by', 'IN'), ('pressing', 'VBG'), ('the', 'DT'), ('key', 'NN'), (',', ','), ('when', 'WRB'), ('the', 'DT'), ('window', 'NN'), ('is', 'VBZ'), ('completely', 'RB'), ('open', 'JJ'), (',', ','), ('pressing', 'VBG'), ('the', 'DT'), ('button', 'NN'), ('for', 'IN'), ('opening', 'VBG'), ('doe', 'NN'), ('not', 'RB'), ('have', 'VB'), ('any', 'DT'), ('effect', 'NN'), (',', ','), ('if', 'IN'), ('the', 'DT'), ('window', 'NN'), ('is', 'VBZ'), ('completely', 'RB'), ('closed', 'VBN'), (',', ','), ('pressing', 'VBG'), ('the', 'DT'), ('key', 'NN'), ('for', 'IN'), ('closing', 'VBG'), ('doe', 'NN'), ('not', 'RB'), ('have', 'VB'), ('any', 'DT'), ('effect', 'NN'), (',', ','), ('a', 'DT'), ('soon', 'RB'), ('a', 'DT'), ('the', 'DT'), ('window', 'NN'), ('is', 'VBZ'), ('closed', 'VBN'), ('and', 'CC'), ('an', 'DT'), ('obstacle', 'NN'), ('in', 'IN'), ('the', 'DT'), ('window', 'NN'), ('frame', 'NN'), ('is', 'VBZ'), ('detected', 'VBN'), ('by', 'IN'), ('back', 'JJ'), ('pressure', 'NN'), (',', ','), ('the', 'DT'), ('finger', 'NN'), ('protection', 'NN'), ('is', 'VBZ'), ('activated', 'VBN'), (',', ','), ('if', 'IN'), ('the', 'DT'), ('anti-trap', 'JJ'), ('protection', 'NN'), ('is', 'VBZ'), ('activated', 'VBN'), (',', ','), ('the', 'DT'), ('window', 'NN'), ('can', 'MD'), ('no', 'RB'), ('longer', 'RB'), ('be', 'VB'), ('closed', 'VBN'), (',', ','), ('the', 'DT'), ('finger', 'NN'), ('protection', 'NN'), ('can', 'MD'), ('be', 'VB'), ('deactivated', 'VBN'), ('by', 'IN'), ('briefly', 'NN'), ('pressing', 'VBG'), ('the', 'DT'), ('open', 'JJ'), ('button', 'NN'), (',', ','), ('if', 'IN'), ('the', 'DT'), ('led', 'VBN'), ('is', 'VBZ'), ('present', 'JJ'), ('and', 'CC'), ('the', 'DT'), ('finger', 'NN'), ('protection', 'NN'), ('is', 'VBZ'), ('activated', 'VBN'), (',', ','), ('the', 'DT'), ('led', 'VBN'), ('is', 'VBZ'), ('lit', 'VBN'), (',', ','), ('if', 'IN'), ('the', 'DT'), ('led', 'VBN'), ('is', 'VBZ'), ('present', 'JJ'), ('and', 'CC'), ('the', 'DT'), ('finger', 'NN'), ('protection', 'NN'), ('is', 'VBZ'), ('not', 'RB'), ('activated', 'VBN'), (',', ','), ('the', 'DT'), ('led', 'VBN'), ('doe', 'NN'), ('not', 'RB'), ('light', 'VBD'), ('up', 'RP'), (',', ','), ('when', 'WRB'), ('the', 'DT'), ('mirror', 'NN'), ('is', 'VBZ'), ('folded', 'VBN'), (',', ','), ('pressing', 'VBG'), ('the', 'DT'), ('central', 'JJ'), ('button', 'NN'), ('will', 'MD'), ('cause', 'VB'), ('the', 'DT'), ('mirror', 'NN'), ('to', 'TO'), ('fold', 'VB'), ('out', 'RP'), (',', ','), ('when', 'WRB'), ('the', 'DT'), ('mirror', 'NN'), ('is', 'VBZ'), ('folded', 'VBN'), ('out', 'RP'), ('and', 'CC'), ('the', 'DT'), ('vehicle', 'NN'), ('is', 'VBZ'), ('stationary', 'JJ'), (',', ','), ('pressing', 'VBG'), ('the', 'DT'), ('central', 'JJ'), ('button', 'NN'), ('cause', 'NN'), ('the', 'DT'), ('mirror', 'NN'), ('to', 'TO'), ('fold', 'VB'), (',', ','), ('when', 'WRB'), ('the', 'DT'), ('mirror', 'NN'), ('is', 'VBZ'), ('unfolded', 'JJ'), ('and', 'CC'), ('the', 'DT'), ('vehicle', 'NN'), ('is', 'VBZ'), ('in', 'IN'), ('motion', 'NN'), (',', ','), ('pressing', 'VBG'), ('the', 'DT'), ('central', 'JJ'), ('button', 'NN'), ('ha', 'VBZ'), ('no', 'DT'), ('effect', 'NN'), (',', ','), ('if', 'IN'), ('the', 'DT'), ('led', 'VBN'), ('is', 'VBZ'), ('present', 'JJ'), ('and', 'CC'), ('the', 'DT'), ('mirror', 'NN'), ('is', 'VBZ'), ('folded', 'VBN'), ('in', 'IN'), (',', ','), ('the', 'DT'), ('led', 'VBN'), ('is', 'VBZ'), ('lit', 'VBN'), (',', ','), ('if', 'IN'), ('the', 'DT'), ('led', 'VBN'), ('is', 'VBZ'), ('present', 'JJ'), ('and', 'CC'), ('the', 'DT'), ('mirror', 'NN'), ('is', 'VBZ'), ('folded', 'VBN'), ('out', 'RP'), (',', ','), ('the', 'DT'), ('led', 'VBN'), ('doe', 'NN'), ('not', 'RB'), ('light', 'VBD'), ('up', 'RP'), (',', ','), ('pressing', 'VBG'), ('the', 'DT'), ('directional', 'JJ'), ('button', 'NN'), ('left', 'NN'), ('of', 'IN'), ('the', 'DT'), ('electrical', 'JJ'), ('exterior', 'JJ'), ('mirror', 'NN'), (',', ','), ('cause', 'VB'), ('the', 'DT'), ('exterior', 'JJ'), ('mirror', 'NN'), ('to', 'TO'), ('move', 'VB'), ('to', 'TO'), ('the', 'DT'), ('left', 'NN'), (',', ','), ('this', 'DT'), ('only', 'JJ'), ('work', 'NN'), ('when', 'WRB'), ('the', 'DT'), ('exterior', 'JJ'), ('mirror', 'NN'), ('ha', 'NN'), ('moving', 'VBG'), ('margin', 'NN'), ('to', 'TO'), ('the', 'DT'), ('left', 'NN'), (',', ','), ('pressing', 'VBG'), ('the', 'DT'), ('directional', 'JJ'), ('button', 'NN'), ('right', 'NN'), ('of', 'IN'), ('the', 'DT'), ('electrical', 'JJ'), ('exterior', 'JJ'), ('mirror', 'NN'), ('cause', 'VBP'), ('the', 'DT'), ('exterior', 'JJ'), ('mirror', 'NN'), ('to', 'TO'), ('move', 'VB'), ('to', 'TO'), ('the', 'DT'), ('right', 'NN'), (',', ','), ('this', 'DT'), ('only', 'JJ'), ('work', 'NN'), ('when', 'WRB'), ('the', 'DT'), ('exterior', 'JJ'), ('mirror', 'NN'), ('ha', 'NN'), ('movement', 'NN'), ('margin', 'NN'), ('to', 'TO'), ('the', 'DT'), ('right', 'NN'), (',', ','), ('pressing', 'VBG'), ('the', 'DT'), ('directional', 'JJ'), ('button', 'NN'), ('up', 'IN'), ('of', 'IN'), ('the', 'DT'), ('electrical', 'JJ'), ('exterior', 'JJ'), ('mirror', 'NN'), ('cause', 'VBP'), ('the', 'DT'), ('exterior', 'JJ'), ('mirror', 'NN'), ('to', 'TO'), ('move', 'VB'), ('upwards', 'NNS'), (',', ','), ('this', 'DT'), ('only', 'JJ'), ('work', 'NN'), ('when', 'WRB'), ('the', 'DT'), ('exterior', 'JJ'), ('mirror', 'NN'), ('ha', 'NN'), ('moving', 'VBG'), ('range', 'NN'), ('up', 'RB'), (',', ','), ('pressing', 'VBG'), ('on', 'IN'), ('the', 'DT'), ('directional', 'JJ'), ('button', 'NN'), ('down', 'IN'), ('of', 'IN'), ('the', 'DT'), ('electrical', 'JJ'), ('exterior', 'JJ'), ('mirror', 'NN'), ('cause', 'VBP'), ('the', 'DT'), ('exterior', 'JJ'), ('mirror', 'NN'), ('to', 'TO'), ('move', 'VB'), ('downwards', 'NNS'), ('.', '.'), (',', ','), ('this', 'DT'), ('only', 'JJ'), ('work', 'NN'), ('when', 'WRB'), ('the', 'DT'), ('exterior', 'JJ'), ('mirror', 'NN'), ('ha', 'NN'), ('movement', 'NN'), ('range', 'NN'), ('down', 'RB'), (',', ','), ('two', 'CD'), ('temperature', 'NN'), ('are', 'VBP'), ('defined', 'VBN'), (',', ','), ('a', 'DT'), ('minimum', 'JJ'), ('temperature', 'NN'), ('and', 'CC'), ('a', 'DT'), ('maximum', 'JJ'), ('temperature', 'NN'), (',', ','), ('if', 'IN'), ('the', 'DT'), ('temperature', 'NN'), ('measurement', 'NN'), ('on', 'IN'), ('the', 'DT'), ('exterior', 'JJ'), ('mirror', 'NN'), ('fall', 'NN'), ('below', 'IN'), ('the', 'DT'), ('minimum', 'JJ'), ('temperature', 'NN'), (',', ','), ('the', 'DT'), ('exterior', 'JJ'), ('mirror', 'NN'), ('heating', 'NN'), ('is', 'VBZ'), ('activated', 'VBN'), (',', ','), ('switching', 'VBG'), ('off', 'RP'), ('the', 'DT'), ('vehicle', 'NN'), ('lead', 'NN'), ('to', 'TO'), ('the', 'DT'), ('switch-off', 'NN'), ('of', 'IN'), ('the', 'DT'), ('exterior', 'JJ'), ('mirror', 'NN'), ('heater', 'NN'), (',', ','), ('when', 'WRB'), ('the', 'DT'), ('exterior', 'JJ'), ('mirror', 'NN'), ('heating', 'NN'), ('is', 'VBZ'), ('activated', 'VBN'), ('and', 'CC'), ('the', 'DT'), ('maximum', 'JJ'), ('temperature', 'NN'), ('is', 'VBZ'), ('exceeded', 'VBN'), (',', ','), ('the', 'DT'), ('exterior', 'JJ'), ('mirror', 'NN'), ('heating', 'NN'), ('is', 'VBZ'), ('deactivated', 'VBN'), (',', ','), ('if', 'IN'), ('the', 'DT'), ('led', 'VBN'), ('is', 'VBZ'), ('present', 'JJ'), ('and', 'CC'), ('the', 'DT'), ('exterior', 'JJ'), ('mirror', 'NN'), ('heating', 'NN'), ('is', 'VBZ'), ('activated', 'VBN'), (',', ','), ('the', 'DT'), ('led', 'VBN'), ('is', 'VBZ'), ('lit', 'VBN'), (',', ','), ('if', 'IN'), ('the', 'DT'), ('led', 'VBN'), ('is', 'VBZ'), ('present', 'JJ'), ('and', 'CC'), ('the', 'DT'), ('exterior', 'JJ'), ('mirror', 'NN'), ('heater', 'NN'), ('is', 'VBZ'), ('not', 'RB'), ('activated', 'VBN'), (',', ','), ('the', 'DT'), ('led', 'VBN'), ('doe', 'NN'), ('not', 'RB'), ('light', 'VBD'), ('up', 'RP'), (',', ','), ('violent', 'JJ'), ('opening', 'NN'), ('of', 'IN'), ('a', 'DT'), ('door', 'NN'), ('cause', 'NN'), ('an', 'DT'), ('alarm', 'NN'), ('to', 'TO'), ('be', 'VB'), ('triggered', 'VBN'), ('when', 'WRB'), ('the', 'DT'), ('alarm', 'NN'), ('is', 'VBZ'), ('active', 'JJ'), (',', ','), ('violent', 'JJ'), ('opening', 'NN'), ('of', 'IN'), ('a', 'DT'), ('door', 'NN'), ('doe', 'NN'), ('not', 'RB'), ('trigger', 'PDT'), ('an', 'DT'), ('alarm', 'NN'), ('when', 'WRB'), ('the', 'DT'), ('alarm', 'NN'), ('system', 'NN'), ('is', 'VBZ'), ('deactivated', 'VBN'), (',', ','), ('if', 'IN'), ('an', 'DT'), ('led', 'VBN'), ('is', 'VBZ'), ('present', 'JJ'), (',', ','), ('an', 'DT'), ('ongoing', 'JJ'), ('alarm', 'NN'), ('is', 'VBZ'), ('signaled', 'VBN'), ('by', 'IN'), ('an', 'DT'), ('led', 'VBN'), (',', ','), ('alarm', 'NN'), ('is', 'VBZ'), ('automatically', 'RB'), ('terminated', 'VBN'), ('after', 'IN'), ('20', 'CD'), ('second', 'JJ'), (',', ','), ('after', 'IN'), ('which', 'WDT'), ('a', 'DT'), ('message', 'NN'), ('will', 'MD'), ('be', 'VB'), ('displayed', 'VBN'), ('if', 'IN'), ('led', 'VBN'), ('are', 'VBP'), ('present', 'JJ'), (',', ','), ('alarm', 'NN'), ('can', 'MD'), ('be', 'VB'), ('deactivated', 'VBN'), ('by', 'IN'), ('unlocking', 'VBG'), ('the', 'DT'), ('vehicle', 'NN'), ('.', '.'), (',', ','), ('this', 'DT'), ('doe', 'VBZ'), ('not', 'RB'), ('lead', 'JJ'), ('to', 'TO'), ('a', 'DT'), ('message', 'NN'), ('when', 'WRB'), ('led', 'VBN'), ('are', 'VBP'), ('present', 'JJ'), (',', ',')]\n"
     ]
    }
   ],
   "source": [
    "POS_tag = nltk.pos_tag(lemmatized_text)\n",
    "\n",
    "print(\"Lemmatized text with POS tags: \\n\")\n",
    "print (POS_tag)"
   ]
  },
  {
   "cell_type": "code",
   "execution_count": 94,
   "metadata": {},
   "outputs": [],
   "source": [
    "# stopwords = []\n",
    "\n",
    "# wanted_POS = ['NN','NNS','NNP','NNPS','JJ','JJR','JJS','VBG','FW'] \n",
    "\n",
    "# for word in POS_tag:\n",
    "#     if word[1] not in wanted_POS:\n",
    "#         stopwords.append(word[0])\n",
    "\n",
    "# punctuations = list(str(string.punctuation))\n",
    "\n",
    "# stopwords = stopwords + punctuations"
   ]
  },
  {
   "cell_type": "code",
   "execution_count": 95,
   "metadata": {},
   "outputs": [],
   "source": [
    "stopword_file = open(\"long.txt\", \"r\")\n",
    "#Source = https://www.ranks.nl/stopwords\n",
    "\n",
    "lots_of_stopwords = []\n",
    "\n",
    "for line in stopword_file.readlines():\n",
    "    lots_of_stopwords.append(str(line.strip()))\n",
    "\n",
    "stopwords_plus = []\n",
    "#stopwords_plus = stopwords + lots_of_stopwords\n",
    "stopwords_plus = lots_of_stopwords\n",
    "stopwords_plus = set(stopwords_plus)\n"
   ]
  },
  {
   "cell_type": "code",
   "execution_count": 96,
   "metadata": {},
   "outputs": [
    {
     "name": "stdout",
     "output_type": "stream",
     "text": [
      "['deactivation', 'the', 'finger', 'protection', 'the', 'led', 'to', 'deactivated', ',', 'when', 'the', 'central', 'locking', 'system', 'active', 'the', 'vehicle', 'closed', ',', 'the', 'led', 'light', 'up', ',', 'the', 'central', 'locking', 'system', 'inactive', 'the', 'vehicle', 'closed', ',', 'the', 'led', 'doe', 'light', 'up', ',', 'deactivating', 'the', 'central', 'locking', 'system', 'turn', 'the', 'led', ',', 'when', 'window', ',', 'the', 'led', 'doe', 'light', ',', 'when', 'the', 'button', 'closing', 'window', 'pressed', 'the', 'corresponding', 'window', 'move', 'up', ',', 'the', 'led', 'indicates', 'that', 'window', 'close', ',', 'when', 'the', 'button', 'opening', 'window', 'pressed', 'the', 'corresponding', 'window', 'move', ',', 'the', 'led', 'indicates', 'that', 'window', 'opening', ',', 'closing', 'the', 'opening', 'closing', 'process', 'the', 'window', 'lead', 'to', 'deactivation', 'the', 'led', ',', 'the', 'led', 'lit', 'when', 'the', 'exterior', 'mirror', 'folded', ',', 'the', 'led', 'doe', 'light', 'up', 'when', 'the', 'exterior', 'mirror', 'folded', ',', 'switching', 'the', 'state', 'the', 'viewing', 'mirror', 'lead', 'to', 'the', 'change', 'the', 'state', 'the', 'led', ',', 'special', 'led', 'direction', 'illuminates', 'when', 'the', 'viewing', 'mirror', 'the', 'maximum', 'position', 'this', 'direction', ',', 'special', 'led', 'illuminated', 'direction', ',', 'when', 'the', 'exterior', 'mirror', 'the', 'maximum', 'position', 'this', 'direction', 'the', 'mirror', ',', 'then', 'when', 'the', 'exterior', 'mirror', 'heating', 'activated', ',', 'the', 'led', 'lit', ',', 'the', 'exterior', 'mirror', 'heating', 'deactivated', ',', 'the', 'led', 'doe', 'light', 'up', ',', 'deactivating', 'the', 'exterior', 'mirror', 'heating', 'lead', 'to', 'the', 'deactivation', 'the', 'led', ',', 'pressing', 'the', 'button', 'to', 'close', 'the', 'window', 'will', 'the', 'window', 'to', 'close', 'the', 'print', 'exerted', 'the', 'window', 'ha', 'reached', 'top', ',', 'pressing', 'the', 'button', 'to', 'open', 'the', 'window', 'will', 'the', 'window', 'to', 'open', 'long', 'the', 'print', 'running', 'the', 'window', 'ha', 'reached', 'the', 'bottom', ',', 'pressing', 'the', 'button', 'to', 'open', 'the', 'window', 'will', 'open', 'the', 'window', 'completely', ',', 'pressing', 'the', 'button', 'to', 'close', 'the', 'window', 'will', 'the', 'window', 'to', 'close', 'completely', ',', 'the', 'window', 'opened', ',', 'pressing', 'the', 'close', 'button', 'will', 'the', 'window', 'to', ',', 'the', 'window', 'opened', ',', 'pressing', 'the', 'button', ',', 'the', 'window', 'closed', ',', 'press', 'the', 'button', 'to', 'open', 'the', 'window', ',', 'the', 'window', 'closed', ',', 'pressing', 'the', 'key', ',', 'when', 'the', 'window', 'completely', 'open', ',', 'pressing', 'the', 'button', 'opening', 'doe', ',', 'the', 'window', 'completely', 'closed', ',', 'pressing', 'the', 'key', 'closing', 'doe', ',', 'the', 'window', 'closed', 'obstacle', 'the', 'window', 'frame', 'detected', 'pressure', ',', 'the', 'finger', 'protection', 'activated', ',', 'the', 'anti-trap', 'protection', 'activated', ',', 'the', 'window', 'longer', 'closed', ',', 'the', 'finger', 'protection', 'deactivated', 'pressing', 'the', 'open', 'button', ',', 'the', 'led', 'the', 'finger', 'protection', 'activated', ',', 'the', 'led', 'lit', ',', 'the', 'led', 'the', 'finger', 'protection', 'activated', ',', 'the', 'led', 'doe', 'light', 'up', ',', 'when', 'the', 'mirror', 'folded', ',', 'pressing', 'the', 'central', 'button', 'will', 'the', 'mirror', 'to', 'fold', ',', 'when', 'the', 'mirror', 'folded', 'the', 'vehicle', 'stationary', ',', 'pressing', 'the', 'central', 'button', 'the', 'mirror', 'to', 'fold', ',', 'when', 'the', 'mirror', 'unfolded', 'the', 'vehicle', 'motion', ',', 'pressing', 'the', 'central', 'button', 'ha', ',', 'the', 'led', 'the', 'mirror', 'folded', ',', 'the', 'led', 'lit', ',', 'the', 'led', 'the', 'mirror', 'folded', ',', 'the', 'led', 'doe', 'light', 'up', ',', 'pressing', 'the', 'directional', 'button', 'left', 'the', 'electrical', 'exterior', 'mirror', ',', 'the', 'exterior', 'mirror', 'to', 'move', 'to', 'the', 'left', ',', 'this', 'work', 'when', 'the', 'exterior', 'mirror', 'ha', 'moving', 'margin', 'to', 'the', 'left', ',', 'pressing', 'the', 'directional', 'button', 'the', 'electrical', 'exterior', 'mirror', 'the', 'exterior', 'mirror', 'to', 'move', 'to', 'the', ',', 'this', 'work', 'when', 'the', 'exterior', 'mirror', 'ha', 'movement', 'margin', 'to', 'the', ',', 'pressing', 'the', 'directional', 'button', 'up', 'the', 'electrical', 'exterior', 'mirror', 'the', 'exterior', 'mirror', 'to', 'move', 'upwards', ',', 'this', 'work', 'when', 'the', 'exterior', 'mirror', 'ha', 'moving', 'range', 'up', ',', 'pressing', 'the', 'directional', 'button', 'the', 'electrical', 'exterior', 'mirror', 'the', 'exterior', 'mirror', 'to', 'move', '.', ',', 'this', 'work', 'when', 'the', 'exterior', 'mirror', 'ha', 'movement', 'range', ',', 'two', 'temperature', 'defined', ',', 'minimum', 'temperature', 'maximum', 'temperature', ',', 'the', 'temperature', 'measurement', 'the', 'exterior', 'mirror', 'fall', 'the', 'minimum', 'temperature', ',', 'the', 'exterior', 'mirror', 'heating', 'activated', ',', 'switching', 'the', 'vehicle', 'lead', 'to', 'the', 'switch-off', 'the', 'exterior', 'mirror', 'heater', ',', 'when', 'the', 'exterior', 'mirror', 'heating', 'activated', 'the', 'maximum', 'temperature', 'exceeded', ',', 'the', 'exterior', 'mirror', 'heating', 'deactivated', ',', 'the', 'led', 'the', 'exterior', 'mirror', 'heating', 'activated', ',', 'the', 'led', 'lit', ',', 'the', 'led', 'the', 'exterior', 'mirror', 'heater', 'activated', ',', 'the', 'led', 'doe', 'light', 'up', ',', 'violent', 'opening', 'door', 'alarm', 'to', 'triggered', 'when', 'the', 'alarm', 'active', ',', 'violent', 'opening', 'door', 'doe', 'trigger', 'alarm', 'when', 'the', 'alarm', 'system', 'deactivated', ',', 'led', ',', 'ongoing', 'alarm', 'signaled', 'led', ',', 'alarm', 'automatically', 'terminated', '20', 'second', ',', 'which', 'message', 'will', 'displayed', 'led', ',', 'alarm', 'deactivated', 'unlocking', 'the', 'vehicle', '.', ',', 'this', 'doe', 'lead', 'to', 'message', 'when', 'led', ',']\n"
     ]
    }
   ],
   "source": [
    "processed_text = []\n",
    "for word in lemmatized_text:\n",
    "    if word not in stopwords_plus:\n",
    "        processed_text.append(word)\n",
    "print(processed_text)"
   ]
  },
  {
   "cell_type": "code",
   "execution_count": 97,
   "metadata": {},
   "outputs": [
    {
     "name": "stdout",
     "output_type": "stream",
     "text": [
      "['system', 'electrical', 'locking', 'lead', 'direction', 'the', 'special', 'illuminates', 'unfolded', 'ongoing', 'trigger', 'fall', 'work', 'longer', 'violent', 'exceeded', 'pressing', 'indicates', 'terminated', 'moving', 'viewing', 'second', 'range', 'deactivating', 'fold', '20', 'process', 'led', 'top', 'unlocking', 'switching', 'closed', 'close', 'pressure', 'left', 'obstacle', 'long', 'inactive', 'maximum', 'central', 'turn', 'upwards', 'heating', 'to', 'illuminated', 'when', 'pressed', 'signaled', 'reached', 'state', 'light', 'temperature', 'deactivated', 'which', 'minimum', 'mirror', 'lit', 'margin', 'message', 'position', 'detected', 'then', 'change', 'window', 'opening', 'button', 'doe', 'automatically', 'corresponding', 'folded', 'that', 'alarm', 'up', 'motion', 'switch-off', 'stationary', 'exerted', 'print', 'key', 'vehicle', 'defined', 'this', 'bottom', 'anti-trap', 'frame', '.', 'will', ',', 'door', 'protection', 'finger', 'two', 'completely', 'active', 'running', 'activated', 'press', 'ha', 'move', 'deactivation', 'open', 'opened', 'triggered', 'movement', 'closing', 'displayed', 'exterior', 'measurement', 'heater', 'directional']\n"
     ]
    }
   ],
   "source": [
    "vocabulary = list(set(processed_text))\n",
    "print(vocabulary)"
   ]
  },
  {
   "cell_type": "code",
   "execution_count": 98,
   "metadata": {},
   "outputs": [],
   "source": [
    "\n",
    "import numpy as np\n",
    "import math\n",
    "vocab_len = len(vocabulary)\n",
    "\n",
    "weighted_edge = np.zeros((vocab_len,vocab_len),dtype=np.float32)\n",
    "\n",
    "score = np.zeros((vocab_len),dtype=np.float32)\n",
    "window_size = 3\n",
    "covered_coocurrences = []\n",
    "\n",
    "for i in range(0,vocab_len):\n",
    "    score[i]=1\n",
    "    for j in range(0,vocab_len):\n",
    "        if j==i:\n",
    "            weighted_edge[i][j]=0\n",
    "        else:\n",
    "            for window_start in range(0,(len(processed_text)-window_size)):\n",
    "                \n",
    "                window_end = window_start+window_size\n",
    "                \n",
    "                window = processed_text[window_start:window_end]\n",
    "                \n",
    "                if (vocabulary[i] in window) and (vocabulary[j] in window):\n",
    "                    \n",
    "                    index_of_i = window_start + window.index(vocabulary[i])\n",
    "                    index_of_j = window_start + window.index(vocabulary[j])\n",
    "                    \n",
    "                    # index_of_x is the absolute position of the xth term in the window \n",
    "                    # (counting from 0) \n",
    "                    # in the processed_text\n",
    "                      \n",
    "                    if [index_of_i,index_of_j] not in covered_coocurrences:\n",
    "                        weighted_edge[i][j]+=1/math.fabs(index_of_i-index_of_j)\n",
    "                        covered_coocurrences.append([index_of_i,index_of_j])"
   ]
  },
  {
   "cell_type": "code",
   "execution_count": 99,
   "metadata": {},
   "outputs": [],
   "source": [
    "inout = np.zeros((vocab_len),dtype=np.float32)\n",
    "\n",
    "for i in range(0,vocab_len):\n",
    "    for j in range(0,vocab_len):\n",
    "        inout[i]+=weighted_edge[i][j]"
   ]
  },
  {
   "cell_type": "code",
   "execution_count": 100,
   "metadata": {},
   "outputs": [
    {
     "name": "stdout",
     "output_type": "stream",
     "text": [
      "Converging at iteration 33....\n"
     ]
    }
   ],
   "source": [
    "MAX_ITERATIONS = 50\n",
    "d=0.85\n",
    "threshold = 0.0001 #convergence threshold\n",
    "\n",
    "for iter in range(0,MAX_ITERATIONS):\n",
    "    prev_score = np.copy(score)\n",
    "    \n",
    "    for i in range(0,vocab_len):\n",
    "        \n",
    "        summation = 0\n",
    "        for j in range(0,vocab_len):\n",
    "            if weighted_edge[i][j] != 0:\n",
    "                summation += (weighted_edge[i][j]/inout[j])*score[j]\n",
    "                \n",
    "        score[i] = (1-d) + d*(summation)\n",
    "    \n",
    "    if np.sum(np.fabs(prev_score-score)) <= threshold: #convergence condition\n",
    "        print(\"Converging at iteration \"+str(iter)+\"....\")\n",
    "        break"
   ]
  },
  {
   "cell_type": "code",
   "execution_count": 101,
   "metadata": {},
   "outputs": [
    {
     "name": "stdout",
     "output_type": "stream",
     "text": [
      "Score of system: 0.8160669\n",
      "Score of electrical: 0.58513033\n",
      "Score of locking: 0.6262816\n",
      "Score of lead: 0.75887877\n",
      "Score of direction: 0.74809116\n",
      "Score of the: 17.862328\n",
      "Score of special: 0.41485393\n",
      "Score of illuminates: 0.27843106\n",
      "Score of unfolded: 0.2652106\n",
      "Score of ongoing: 0.30548024\n",
      "Score of trigger: 0.2962097\n",
      "Score of fall: 0.2722712\n",
      "Score of work: 0.6351041\n",
      "Score of longer: 0.2710075\n",
      "Score of violent: 0.43932015\n",
      "Score of exceeded: 0.28769305\n",
      "Score of pressing: 2.23891\n",
      "Score of indicates: 0.42369366\n",
      "Score of terminated: 0.5087289\n",
      "Score of moving: 0.445641\n",
      "Score of viewing: 0.38288185\n",
      "Score of second: 0.45154518\n",
      "Score of range: 0.4657476\n",
      "Score of deactivating: 0.37964052\n",
      "Score of fold: 0.3767038\n",
      "Score of 20: 0.50369143\n",
      "Score of process: 0.27997968\n",
      "Score of led: 4.163648\n",
      "Score of top: 0.29648778\n",
      "Score of unlocking: 0.28263313\n",
      "Score of switching: 0.39414838\n",
      "Score of closed: 1.076795\n",
      "Score of close: 0.8685778\n",
      "Score of pressure: 0.37399483\n",
      "Score of left: 0.4965219\n",
      "Score of obstacle: 0.27027258\n",
      "Score of long: 0.28122005\n",
      "Score of inactive: 0.29886597\n",
      "Score of maximum: 0.7405512\n",
      "Score of central: 0.9311483\n",
      "Score of turn: 0.2932722\n",
      "Score of upwards: 0.27330345\n",
      "Score of heating: 0.9370297\n",
      "Score of to: 3.4046605\n",
      "Score of illuminated: 0.28914478\n",
      "Score of when: 2.8038232\n",
      "Score of pressed: 0.40913844\n",
      "Score of signaled: 0.30496052\n",
      "Score of reached: 0.463446\n",
      "Score of state: 0.4110383\n",
      "Score of light: 1.0783224\n",
      "Score of temperature: 1.0848781\n",
      "Score of deactivated: 0.925178\n",
      "Score of which: 0.33970746\n",
      "Score of minimum: 0.4639248\n",
      "Score of mirror: 4.3408175\n",
      "Score of lit: 0.7157739\n",
      "Score of margin: 0.43664366\n",
      "Score of message: 0.46456704\n",
      "Score of position: 0.43555176\n",
      "Score of detected: 0.40122846\n",
      "Score of then: 0.2629232\n",
      "Score of change: 0.2724897\n",
      "Score of window: 4.045024\n",
      "Score of opening: 1.0126145\n",
      "Score of button: 2.3152435\n",
      "Score of doe: 1.5303624\n",
      "Score of automatically: 0.4397295\n",
      "Score of corresponding: 0.4043433\n",
      "Score of folded: 0.8263812\n",
      "Score of that: 0.43095508\n",
      "Score of alarm: 1.3567142\n",
      "Score of up: 1.3744481\n",
      "Score of motion: 0.27451718\n",
      "Score of switch-off: 0.2604767\n",
      "Score of stationary: 0.27451718\n",
      "Score of exerted: 0.2947707\n",
      "Score of print: 0.48888725\n",
      "Score of key: 0.38820595\n",
      "Score of vehicle: 1.029988\n",
      "Score of defined: 0.32127228\n",
      "Score of this: 1.1177295\n",
      "Score of bottom: 0.27729008\n",
      "Score of anti-trap: 0.26867494\n",
      "Score of frame: 0.37476817\n",
      "Score of .: 0.4017837\n",
      "Score of will: 1.0518492\n",
      "Score of ,: 11.682132\n",
      "Score of door: 0.46320817\n",
      "Score of protection: 0.9020436\n",
      "Score of finger: 0.7488177\n",
      "Score of two: 0.32138532\n",
      "Score of completely: 0.6214897\n",
      "Score of active: 0.4421203\n",
      "Score of running: 0.29477066\n",
      "Score of activated: 1.2446721\n",
      "Score of press: 0.26581913\n",
      "Score of ha: 1.1630487\n",
      "Score of move: 0.9107162\n",
      "Score of deactivation: 0.43595707\n",
      "Score of open: 0.9977134\n",
      "Score of opened: 0.3807983\n",
      "Score of triggered: 0.27225158\n",
      "Score of movement: 0.4454882\n",
      "Score of closing: 0.6937813\n",
      "Score of displayed: 0.28225118\n",
      "Score of exterior: 3.0180364\n",
      "Score of measurement: 0.27709755\n",
      "Score of heater: 0.37069052\n",
      "Score of directional: 0.5991613\n"
     ]
    }
   ],
   "source": [
    "for i in range(0,vocab_len):\n",
    "    print(\"Score of \"+vocabulary[i]+\": \"+str(score[i]))"
   ]
  },
  {
   "cell_type": "code",
   "execution_count": null,
   "metadata": {},
   "outputs": [],
   "source": []
  }
 ],
 "metadata": {
  "kernelspec": {
   "display_name": "Python 3",
   "language": "python",
   "name": "python3"
  },
  "language_info": {
   "codemirror_mode": {
    "name": "ipython",
    "version": 3
   },
   "file_extension": ".py",
   "mimetype": "text/x-python",
   "name": "python",
   "nbconvert_exporter": "python",
   "pygments_lexer": "ipython3",
   "version": "3.6.5"
  }
 },
 "nbformat": 4,
 "nbformat_minor": 2
}
